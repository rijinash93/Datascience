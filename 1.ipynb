{
 "cells": [
  {
   "cell_type": "code",
   "execution_count": 1,
   "id": "f5fa244c",
   "metadata": {},
   "outputs": [
    {
     "name": "stdout",
     "output_type": "stream",
     "text": [
      "hello\n"
     ]
    }
   ],
   "source": [
    "print(\"hello\")"
   ]
  },
  {
   "cell_type": "code",
   "execution_count": null,
   "id": "6c599aed",
   "metadata": {},
   "outputs": [],
   "source": []
  },
  {
   "cell_type": "markdown",
   "id": "8f82439d",
   "metadata": {},
   "source": [
    "# Day1"
   ]
  },
  {
   "cell_type": "markdown",
   "id": "5e3adf94",
   "metadata": {},
   "source": [
    "variables"
   ]
  },
  {
   "cell_type": "code",
   "execution_count": 1,
   "id": "047c6732",
   "metadata": {},
   "outputs": [],
   "source": [
    "a=10"
   ]
  },
  {
   "cell_type": "code",
   "execution_count": 2,
   "id": "2b9c4d61",
   "metadata": {},
   "outputs": [
    {
     "name": "stdout",
     "output_type": "stream",
     "text": [
      "10\n"
     ]
    }
   ],
   "source": [
    "print(a)"
   ]
  },
  {
   "cell_type": "code",
   "execution_count": 3,
   "id": "54083dac",
   "metadata": {},
   "outputs": [
    {
     "name": "stdout",
     "output_type": "stream",
     "text": [
      "20\n"
     ]
    }
   ],
   "source": [
    "print(a+a)"
   ]
  },
  {
   "cell_type": "code",
   "execution_count": 4,
   "id": "4416eb06",
   "metadata": {},
   "outputs": [
    {
     "name": "stdout",
     "output_type": "stream",
     "text": [
      "<class 'int'>\n"
     ]
    }
   ],
   "source": [
    "print(type(a))"
   ]
  },
  {
   "cell_type": "markdown",
   "id": "34d6b348",
   "metadata": {},
   "source": [
    "list\n"
   ]
  },
  {
   "cell_type": "code",
   "execution_count": 30,
   "id": "f6f2061d",
   "metadata": {},
   "outputs": [],
   "source": [
    "L=[1,\"hello\",True,3,4,5,2,6]#it can store all data type\n",
    "\n"
   ]
  },
  {
   "cell_type": "code",
   "execution_count": 16,
   "id": "8d1e6f3e",
   "metadata": {},
   "outputs": [
    {
     "data": {
      "text/plain": [
       "1"
      ]
     },
     "execution_count": 16,
     "metadata": {},
     "output_type": "execute_result"
    }
   ],
   "source": [
    "L[0]"
   ]
  },
  {
   "cell_type": "code",
   "execution_count": 17,
   "id": "44cf036a",
   "metadata": {},
   "outputs": [
    {
     "data": {
      "text/plain": [
       "'hello'"
      ]
     },
     "execution_count": 17,
     "metadata": {},
     "output_type": "execute_result"
    }
   ],
   "source": [
    "L[1]"
   ]
  },
  {
   "cell_type": "code",
   "execution_count": 19,
   "id": "895fb930",
   "metadata": {},
   "outputs": [
    {
     "data": {
      "text/plain": [
       "'e'"
      ]
     },
     "execution_count": 19,
     "metadata": {},
     "output_type": "execute_result"
    }
   ],
   "source": [
    "L[1][1]"
   ]
  },
  {
   "cell_type": "code",
   "execution_count": 20,
   "id": "3f0db016",
   "metadata": {},
   "outputs": [
    {
     "data": {
      "text/plain": [
       "True"
      ]
     },
     "execution_count": 20,
     "metadata": {},
     "output_type": "execute_result"
    }
   ],
   "source": [
    "L[-1]"
   ]
  },
  {
   "cell_type": "code",
   "execution_count": 21,
   "id": "72d253dd",
   "metadata": {},
   "outputs": [
    {
     "data": {
      "text/plain": [
       "[True, 'hello', 1]"
      ]
     },
     "execution_count": 21,
     "metadata": {},
     "output_type": "execute_result"
    }
   ],
   "source": [
    "L[::-1]"
   ]
  },
  {
   "cell_type": "code",
   "execution_count": 22,
   "id": "4e250c5f",
   "metadata": {},
   "outputs": [
    {
     "data": {
      "text/plain": [
       "[1, 'hello', True]"
      ]
     },
     "execution_count": 22,
     "metadata": {},
     "output_type": "execute_result"
    }
   ],
   "source": [
    "L[::]"
   ]
  },
  {
   "cell_type": "code",
   "execution_count": 23,
   "id": "7f1698c3",
   "metadata": {},
   "outputs": [
    {
     "data": {
      "text/plain": [
       "[1, 'hello']"
      ]
     },
     "execution_count": 23,
     "metadata": {},
     "output_type": "execute_result"
    }
   ],
   "source": [
    "L[0:2]"
   ]
  },
  {
   "cell_type": "code",
   "execution_count": null,
   "id": "af229ab2",
   "metadata": {},
   "outputs": [
    {
     "data": {
      "text/plain": [
       "[1, True, 4, 2]"
      ]
     },
     "execution_count": 33,
     "metadata": {},
     "output_type": "execute_result"
    }
   ],
   "source": [
    "L[0:-1:2]"
   ]
  },
  {
   "cell_type": "code",
   "execution_count": 34,
   "id": "5d7dc4f2",
   "metadata": {},
   "outputs": [
    {
     "data": {
      "text/plain": [
       "[1, 3, 2]"
      ]
     },
     "execution_count": 34,
     "metadata": {},
     "output_type": "execute_result"
    }
   ],
   "source": [
    "L[0:-1:3]"
   ]
  },
  {
   "cell_type": "code",
   "execution_count": 35,
   "id": "9e250695",
   "metadata": {},
   "outputs": [
    {
     "data": {
      "text/plain": [
       "[True, 3, 4, 5, 2, 6]"
      ]
     },
     "execution_count": 35,
     "metadata": {},
     "output_type": "execute_result"
    }
   ],
   "source": [
    "L[2:]"
   ]
  },
  {
   "cell_type": "code",
   "execution_count": 36,
   "id": "f82f24d9",
   "metadata": {},
   "outputs": [
    {
     "data": {
      "text/plain": [
       "8"
      ]
     },
     "execution_count": 36,
     "metadata": {},
     "output_type": "execute_result"
    }
   ],
   "source": [
    "len(L)"
   ]
  },
  {
   "cell_type": "code",
   "execution_count": 1,
   "id": "825f37a9",
   "metadata": {},
   "outputs": [
    {
     "data": {
      "text/plain": [
       "['__add__',\n",
       " '__class__',\n",
       " '__contains__',\n",
       " '__delattr__',\n",
       " '__delitem__',\n",
       " '__dir__',\n",
       " '__doc__',\n",
       " '__eq__',\n",
       " '__format__',\n",
       " '__ge__',\n",
       " '__getattribute__',\n",
       " '__getitem__',\n",
       " '__gt__',\n",
       " '__hash__',\n",
       " '__iadd__',\n",
       " '__imul__',\n",
       " '__init__',\n",
       " '__init_subclass__',\n",
       " '__iter__',\n",
       " '__le__',\n",
       " '__len__',\n",
       " '__lt__',\n",
       " '__mul__',\n",
       " '__ne__',\n",
       " '__new__',\n",
       " '__reduce__',\n",
       " '__reduce_ex__',\n",
       " '__repr__',\n",
       " '__reversed__',\n",
       " '__rmul__',\n",
       " '__setattr__',\n",
       " '__setitem__',\n",
       " '__sizeof__',\n",
       " '__str__',\n",
       " '__subclasshook__',\n",
       " 'append',\n",
       " 'clear',\n",
       " 'copy',\n",
       " 'count',\n",
       " 'extend',\n",
       " 'index',\n",
       " 'insert',\n",
       " 'pop',\n",
       " 'remove',\n",
       " 'reverse',\n",
       " 'sort']"
      ]
     },
     "execution_count": 1,
     "metadata": {},
     "output_type": "execute_result"
    }
   ],
   "source": [
    "dir(list)"
   ]
  },
  {
   "cell_type": "code",
   "execution_count": 2,
   "id": "18c460b8",
   "metadata": {},
   "outputs": [],
   "source": [
    "List=[1,2,3,4,5,6,7]"
   ]
  },
  {
   "cell_type": "markdown",
   "id": "32cd16f4",
   "metadata": {},
   "source": [
    "# Insert"
   ]
  },
  {
   "cell_type": "code",
   "execution_count": null,
   "id": "3c12da31",
   "metadata": {},
   "outputs": [
    {
     "name": "stdout",
     "output_type": "stream",
     "text": [
      "['a', 'b', 'riji', 'c', 'd']\n"
     ]
    }
   ],
   "source": [
    "List = [\"a\", \"b\", \"c\", \"d\"]\n",
    "List.insert(-1, \"riji\")\n",
    "print(List)"
   ]
  },
  {
   "cell_type": "code",
   "execution_count": 15,
   "id": "c10a7266",
   "metadata": {},
   "outputs": [
    {
     "name": "stdout",
     "output_type": "stream",
     "text": [
      "['a', 'b', 'c', 'riji']\n"
     ]
    }
   ],
   "source": [
    "List = [\"a\", \"b\", \"c\"]\n",
    "List.insert(len(List), \"riji\")\n",
    "print(List)"
   ]
  },
  {
   "cell_type": "markdown",
   "id": "f280c5c1",
   "metadata": {},
   "source": [
    "# append"
   ]
  },
  {
   "cell_type": "code",
   "execution_count": 16,
   "id": "f51444e0",
   "metadata": {},
   "outputs": [
    {
     "name": "stdout",
     "output_type": "stream",
     "text": [
      "['a', 'b', 'c', 'riji']\n"
     ]
    }
   ],
   "source": [
    "List = [\"a\", \"b\", \"c\"]\n",
    "List.append(\"riji\")\n",
    "print(List)"
   ]
  },
  {
   "cell_type": "markdown",
   "id": "600f2994",
   "metadata": {},
   "source": [
    "# pop"
   ]
  },
  {
   "cell_type": "code",
   "execution_count": 17,
   "id": "65a17150",
   "metadata": {},
   "outputs": [
    {
     "name": "stdout",
     "output_type": "stream",
     "text": [
      "['a', 'b']\n"
     ]
    }
   ],
   "source": [
    "List = [\"a\", \"b\", \"c\"]\n",
    "List.pop()\n",
    "print(List)"
   ]
  },
  {
   "cell_type": "code",
   "execution_count": 18,
   "id": "aee287d6",
   "metadata": {},
   "outputs": [
    {
     "data": {
      "text/plain": [
       "'b'"
      ]
     },
     "execution_count": 18,
     "metadata": {},
     "output_type": "execute_result"
    }
   ],
   "source": [
    "List.pop(1)"
   ]
  },
  {
   "cell_type": "markdown",
   "id": "f6a426ac",
   "metadata": {},
   "source": [
    "# Remove"
   ]
  },
  {
   "cell_type": "markdown",
   "id": "61f0de9a",
   "metadata": {},
   "source": []
  },
  {
   "cell_type": "code",
   "execution_count": null,
   "id": "b09ee61a",
   "metadata": {},
   "outputs": [
    {
     "name": "stdout",
     "output_type": "stream",
     "text": [
      "['b', 'c']\n"
     ]
    }
   ],
   "source": [
    "List = [\"a\", \"b\", \"c\"]\n",
    "List.remove(\"a\")\n",
    "print(List)"
   ]
  },
  {
   "cell_type": "markdown",
   "id": "bbc6d9b9",
   "metadata": {},
   "source": [
    "# count"
   ]
  },
  {
   "cell_type": "code",
   "execution_count": 24,
   "id": "8e6019a4",
   "metadata": {},
   "outputs": [
    {
     "data": {
      "text/plain": [
       "2"
      ]
     },
     "execution_count": 24,
     "metadata": {},
     "output_type": "execute_result"
    }
   ],
   "source": [
    "List = [\"a\", \"b\", \"c\",\"a\"]\n",
    "List.count(\"a\")\n"
   ]
  },
  {
   "cell_type": "markdown",
   "id": "adbd462d",
   "metadata": {},
   "source": [
    "# index"
   ]
  },
  {
   "cell_type": "code",
   "execution_count": 25,
   "id": "9b96410e",
   "metadata": {},
   "outputs": [
    {
     "data": {
      "text/plain": [
       "0"
      ]
     },
     "execution_count": 25,
     "metadata": {},
     "output_type": "execute_result"
    }
   ],
   "source": [
    "List = [\"a\", \"b\", \"c\",\"a\"]\n",
    "List.index(\"a\")"
   ]
  },
  {
   "cell_type": "markdown",
   "id": "6bbd4aff",
   "metadata": {},
   "source": [
    "# Reverse"
   ]
  },
  {
   "cell_type": "code",
   "execution_count": 27,
   "id": "32425d15",
   "metadata": {},
   "outputs": [
    {
     "data": {
      "text/plain": [
       "['a', 'c', 'b', 'a']"
      ]
     },
     "execution_count": 27,
     "metadata": {},
     "output_type": "execute_result"
    }
   ],
   "source": [
    "List = [\"a\", \"b\", \"c\",\"a\"]\n",
    "List.reverse()\n",
    "List"
   ]
  },
  {
   "cell_type": "markdown",
   "id": "ce0b4d8f",
   "metadata": {},
   "source": [
    "# sort"
   ]
  },
  {
   "cell_type": "code",
   "execution_count": 28,
   "id": "bf82e283",
   "metadata": {},
   "outputs": [
    {
     "data": {
      "text/plain": [
       "['a', 'a', 'b', 'c']"
      ]
     },
     "execution_count": 28,
     "metadata": {},
     "output_type": "execute_result"
    }
   ],
   "source": [
    "List = [\"a\", \"b\", \"c\",\"a\"]\n",
    "List.sort()\n",
    "List"
   ]
  },
  {
   "cell_type": "code",
   "execution_count": 29,
   "id": "9d90c3d4",
   "metadata": {},
   "outputs": [
    {
     "data": {
      "text/plain": [
       "['e', 'c', 'b', 'a']"
      ]
     },
     "execution_count": 29,
     "metadata": {},
     "output_type": "execute_result"
    }
   ],
   "source": [
    "List = [\"a\", \"b\", \"c\",\"e\"]\n",
    "List.sort(reverse=True)\n",
    "List"
   ]
  },
  {
   "cell_type": "markdown",
   "id": "39d6ec41",
   "metadata": {},
   "source": [
    "# copy"
   ]
  },
  {
   "cell_type": "code",
   "execution_count": 30,
   "id": "62944436",
   "metadata": {},
   "outputs": [
    {
     "data": {
      "text/plain": [
       "['a', 'b', 'c', 'e']"
      ]
     },
     "execution_count": 30,
     "metadata": {},
     "output_type": "execute_result"
    }
   ],
   "source": [
    "List = [\"a\", \"b\", \"c\",\"e\"]\n",
    "List_1=List.copy()\n",
    "List_1"
   ]
  },
  {
   "cell_type": "markdown",
   "id": "20db8887",
   "metadata": {},
   "source": [
    "# Extend"
   ]
  },
  {
   "cell_type": "code",
   "execution_count": 32,
   "id": "f00be6b9",
   "metadata": {},
   "outputs": [
    {
     "data": {
      "text/plain": [
       "['a', 'b', 'c', 'e', 1, 2, 3, 4, 5]"
      ]
     },
     "execution_count": 32,
     "metadata": {},
     "output_type": "execute_result"
    }
   ],
   "source": [
    "List = [\"a\", \"b\", \"c\",\"e\"]\n",
    "List_1 = [1,2,3,4,5]\n",
    "List.extend(List_1)\n",
    "List"
   ]
  },
  {
   "cell_type": "markdown",
   "id": "8ec8d4e4",
   "metadata": {},
   "source": [
    "# Append"
   ]
  },
  {
   "cell_type": "code",
   "execution_count": 33,
   "id": "dcb8f0c9",
   "metadata": {},
   "outputs": [
    {
     "data": {
      "text/plain": [
       "['a', 'b', 'c', 'e', [1, 2, 3, 4, 5]]"
      ]
     },
     "execution_count": 33,
     "metadata": {},
     "output_type": "execute_result"
    }
   ],
   "source": [
    "List = [\"a\", \"b\", \"c\",\"e\"]\n",
    "List_1 = [1,2,3,4,5]\n",
    "List.append(List_1)\n",
    "List"
   ]
  },
  {
   "cell_type": "markdown",
   "id": "a165a9ba",
   "metadata": {},
   "source": [
    "# Tupple"
   ]
  },
  {
   "cell_type": "code",
   "execution_count": 34,
   "id": "d040ea0a",
   "metadata": {},
   "outputs": [
    {
     "data": {
      "text/plain": [
       "['__add__',\n",
       " '__class__',\n",
       " '__contains__',\n",
       " '__delattr__',\n",
       " '__dir__',\n",
       " '__doc__',\n",
       " '__eq__',\n",
       " '__format__',\n",
       " '__ge__',\n",
       " '__getattribute__',\n",
       " '__getitem__',\n",
       " '__getnewargs__',\n",
       " '__gt__',\n",
       " '__hash__',\n",
       " '__init__',\n",
       " '__init_subclass__',\n",
       " '__iter__',\n",
       " '__le__',\n",
       " '__len__',\n",
       " '__lt__',\n",
       " '__mul__',\n",
       " '__ne__',\n",
       " '__new__',\n",
       " '__reduce__',\n",
       " '__reduce_ex__',\n",
       " '__repr__',\n",
       " '__rmul__',\n",
       " '__setattr__',\n",
       " '__sizeof__',\n",
       " '__str__',\n",
       " '__subclasshook__',\n",
       " 'count',\n",
       " 'index']"
      ]
     },
     "execution_count": 34,
     "metadata": {},
     "output_type": "execute_result"
    }
   ],
   "source": [
    "dir(tuple)"
   ]
  },
  {
   "cell_type": "markdown",
   "id": "be04d1fb",
   "metadata": {},
   "source": [
    "# count"
   ]
  },
  {
   "cell_type": "code",
   "execution_count": 35,
   "id": "714b0074",
   "metadata": {},
   "outputs": [
    {
     "data": {
      "text/plain": [
       "1"
      ]
     },
     "execution_count": 35,
     "metadata": {},
     "output_type": "execute_result"
    }
   ],
   "source": [
    "Tuple=(1,\"a\",2,4,5.5)\n",
    "Tuple.count(1)"
   ]
  },
  {
   "cell_type": "markdown",
   "id": "9a45ff97",
   "metadata": {},
   "source": [
    "# index"
   ]
  },
  {
   "cell_type": "code",
   "execution_count": 36,
   "id": "1b66cd93",
   "metadata": {},
   "outputs": [
    {
     "data": {
      "text/plain": [
       "0"
      ]
     },
     "execution_count": 36,
     "metadata": {},
     "output_type": "execute_result"
    }
   ],
   "source": [
    "Tuple=(1,\"a\",2,4,5.5)\n",
    "Tuple.index(1)"
   ]
  },
  {
   "cell_type": "markdown",
   "id": "a15ab660",
   "metadata": {},
   "source": [
    "# set"
   ]
  },
  {
   "cell_type": "code",
   "execution_count": 37,
   "id": "2e190211",
   "metadata": {},
   "outputs": [],
   "source": [
    "set\t={1, 2, 3,\"d\"}"
   ]
  },
  {
   "cell_type": "markdown",
   "id": "e39f198f",
   "metadata": {},
   "source": [
    "# Add"
   ]
  },
  {
   "cell_type": "code",
   "execution_count": 39,
   "id": "b9b9d9b7",
   "metadata": {},
   "outputs": [
    {
     "data": {
      "text/plain": [
       "{1, 2, 3, 'd', 'riji'}"
      ]
     },
     "execution_count": 39,
     "metadata": {},
     "output_type": "execute_result"
    }
   ],
   "source": [
    "set.add(\"riji\")\n",
    "set"
   ]
  },
  {
   "cell_type": "markdown",
   "id": "eb33a574",
   "metadata": {},
   "source": [
    "# Difference"
   ]
  },
  {
   "cell_type": "code",
   "execution_count": 42,
   "id": "102f7274",
   "metadata": {},
   "outputs": [
    {
     "name": "stdout",
     "output_type": "stream",
     "text": [
      "Difference: {'d'}\n"
     ]
    }
   ],
   "source": [
    "set_2 = {1, 2, 3, \"d\"}\n",
    "set_1 = {1, 2, 3}\n",
    "\n",
    "diff = set_2.difference(set_1) \n",
    "print(\"Difference:\", diff)"
   ]
  },
  {
   "cell_type": "markdown",
   "id": "19204df9",
   "metadata": {},
   "source": [
    "#  Difference_update"
   ]
  },
  {
   "cell_type": "code",
   "execution_count": 49,
   "id": "e8468305",
   "metadata": {},
   "outputs": [
    {
     "name": "stdout",
     "output_type": "stream",
     "text": [
      "Updated set_1: {4, 5, 6}\n"
     ]
    },
    {
     "data": {
      "text/plain": [
       "{4, 5, 6}"
      ]
     },
     "execution_count": 49,
     "metadata": {},
     "output_type": "execute_result"
    }
   ],
   "source": [
    "set_2 = {1, 2, 3, \"d\"}\n",
    "set_1 = {1, 2, 3,4,5,6}\n",
    "\n",
    "set_1.difference_update(set_2)  # modifies set_1 directly\n",
    "print(\"Updated set_1:\", set_1)\n",
    "set_1"
   ]
  },
  {
   "cell_type": "markdown",
   "id": "bf25983d",
   "metadata": {},
   "source": [
    "# disjoint"
   ]
  },
  {
   "cell_type": "code",
   "execution_count": 52,
   "id": "0b89cd05",
   "metadata": {},
   "outputs": [
    {
     "data": {
      "text/plain": [
       "False"
      ]
     },
     "execution_count": 52,
     "metadata": {},
     "output_type": "execute_result"
    }
   ],
   "source": [
    "set_2 = {1, 2, 3, \"d\"}\n",
    "set_1 = {1, 2, 3,4,5,6}\n",
    "\n",
    "set_1.isdisjoint(set_2)  # modifies set_1 directly\n",
    "\n"
   ]
  },
  {
   "cell_type": "code",
   "execution_count": 57,
   "id": "4a173f25",
   "metadata": {},
   "outputs": [
    {
     "data": {
      "text/plain": [
       "False"
      ]
     },
     "execution_count": 57,
     "metadata": {},
     "output_type": "execute_result"
    }
   ],
   "source": [
    "set_2 = { \"d\"}\n",
    "set_1 = {1, 2, 3,4,5,6,\"d\"}\n",
    "\n",
    "set_2.isdisjoint(set_1)"
   ]
  },
  {
   "cell_type": "markdown",
   "id": "470d909f",
   "metadata": {},
   "source": [
    "# superset &subset"
   ]
  },
  {
   "cell_type": "code",
   "execution_count": 59,
   "id": "ba8fc8bd",
   "metadata": {},
   "outputs": [
    {
     "data": {
      "text/plain": [
       "True"
      ]
     },
     "execution_count": 59,
     "metadata": {},
     "output_type": "execute_result"
    }
   ],
   "source": [
    "set_1.issuperset(set_2)"
   ]
  },
  {
   "cell_type": "code",
   "execution_count": 60,
   "id": "84e780e9",
   "metadata": {},
   "outputs": [
    {
     "data": {
      "text/plain": [
       "True"
      ]
     },
     "execution_count": 60,
     "metadata": {},
     "output_type": "execute_result"
    }
   ],
   "source": [
    "set_2.issubset(set_1)"
   ]
  },
  {
   "cell_type": "markdown",
   "id": "f1807d73",
   "metadata": {},
   "source": [
    "# remove"
   ]
  },
  {
   "cell_type": "code",
   "execution_count": 64,
   "id": "d197e2ca",
   "metadata": {},
   "outputs": [
    {
     "data": {
      "text/plain": [
       "{1, 2, 3, 4, 5, 6}"
      ]
     },
     "execution_count": 64,
     "metadata": {},
     "output_type": "execute_result"
    }
   ],
   "source": [
    "set_1 = {1, 2, 3,4,5,6,\"d\"}\n",
    "set_1.remove(\"d\")\n",
    "set_1"
   ]
  },
  {
   "cell_type": "markdown",
   "id": "5c1fb667",
   "metadata": {},
   "source": [
    "# intersection"
   ]
  },
  {
   "cell_type": "code",
   "execution_count": 69,
   "id": "2dcd8e1a",
   "metadata": {},
   "outputs": [
    {
     "data": {
      "text/plain": [
       "{1, 2, 3, 'd'}"
      ]
     },
     "execution_count": 69,
     "metadata": {},
     "output_type": "execute_result"
    }
   ],
   "source": [
    "set_1 = {1, 2, 3,4,5,6,\"d\"}\n",
    "set_2 = {1, 2, 3,\"d\"}\n",
    "set_1.intersection(set_2)\n"
   ]
  },
  {
   "cell_type": "code",
   "execution_count": 67,
   "id": "6c894185",
   "metadata": {},
   "outputs": [
    {
     "data": {
      "text/plain": [
       "{1, 2, 3, 'd'}"
      ]
     },
     "execution_count": 67,
     "metadata": {},
     "output_type": "execute_result"
    }
   ],
   "source": [
    "set_1 = {1, 2, 3,4,5,6,\"d\"}\n",
    "set_2 = {1, 2, 3,\"d\"}\n",
    "set_1.intersection_update(set_2)\n",
    "set_1"
   ]
  },
  {
   "cell_type": "markdown",
   "id": "851dc3da",
   "metadata": {},
   "source": [
    "# symmetric difference"
   ]
  },
  {
   "cell_type": "code",
   "execution_count": 71,
   "id": "98e0f7cd",
   "metadata": {},
   "outputs": [
    {
     "data": {
      "text/plain": [
       "{4, 5, 6, 7, 8}"
      ]
     },
     "execution_count": 71,
     "metadata": {},
     "output_type": "execute_result"
    }
   ],
   "source": [
    "set_1 = {1, 2, 3,4,5,6,\"d\"}\n",
    "set_2 = {1, 2, 3,\"d\",7,8}\n",
    "set_1.symmetric_difference(set_2)\n"
   ]
  },
  {
   "cell_type": "markdown",
   "id": "c0d60ff1",
   "metadata": {},
   "source": [
    "# union"
   ]
  },
  {
   "cell_type": "code",
   "execution_count": 72,
   "id": "545278eb",
   "metadata": {},
   "outputs": [
    {
     "data": {
      "text/plain": [
       "{1, 2, 3, 4, 5, 6, 7, 8, 'd'}"
      ]
     },
     "execution_count": 72,
     "metadata": {},
     "output_type": "execute_result"
    }
   ],
   "source": [
    "set_1 = {1, 2, 3,4,5,6,\"d\"}\n",
    "set_2 = {1, 2, 3,\"d\",7,8}\n",
    "set_1.union(set_2)\n"
   ]
  },
  {
   "cell_type": "markdown",
   "id": "c33c4e74",
   "metadata": {},
   "source": [
    "# dictonary"
   ]
  },
  {
   "cell_type": "markdown",
   "id": "5a534f27",
   "metadata": {},
   "source": []
  },
  {
   "cell_type": "code",
   "execution_count": 73,
   "id": "81b39be7",
   "metadata": {},
   "outputs": [
    {
     "data": {
      "text/plain": [
       "{'Name': 'Ram', 'age': 23}"
      ]
     },
     "execution_count": 73,
     "metadata": {},
     "output_type": "execute_result"
    }
   ],
   "source": [
    "Emp={\"Name\":\"Ram\",\n",
    "     \"age\":23,\n",
    "     }\n",
    "Emp"
   ]
  },
  {
   "cell_type": "code",
   "execution_count": 76,
   "id": "2ef233d6",
   "metadata": {},
   "outputs": [
    {
     "data": {
      "text/plain": [
       "{'Name': 'riji', 'age': 23}"
      ]
     },
     "execution_count": 76,
     "metadata": {},
     "output_type": "execute_result"
    }
   ],
   "source": [
    "Emp[\"Name\"]=\"riji\"\n",
    "Emp"
   ]
  },
  {
   "cell_type": "code",
   "execution_count": 77,
   "id": "6d4677e0",
   "metadata": {},
   "outputs": [],
   "source": [
    "Guvi_Emp={\n",
    "     'EmpID': [44,55,67,21,7,8,19,27],\n",
    "    'Name':['Rajesh','Kumar','Kamal','Saran','Karthick','Iswarya','Divya','David'],\n",
    "    'Designation':['Developer','Tester','TeamLead','Manager','Jr.Developer','Accontant','HR','Admin'],\n",
    "    'Salary': [25000,30000,45000,60000,20000,22000,15000,28000],\n",
    "}"
   ]
  },
  {
   "cell_type": "code",
   "execution_count": 81,
   "id": "25a0deb5",
   "metadata": {},
   "outputs": [
    {
     "data": {
      "text/plain": [
       "4"
      ]
     },
     "execution_count": 81,
     "metadata": {},
     "output_type": "execute_result"
    }
   ],
   "source": [
    "Guvi_Emp[\"EmpID\"].index(7)"
   ]
  },
  {
   "cell_type": "code",
   "execution_count": 85,
   "id": "b80226c9",
   "metadata": {},
   "outputs": [
    {
     "name": "stdout",
     "output_type": "stream",
     "text": [
      "Employee_ID----------->: 7\n"
     ]
    }
   ],
   "source": [
    "print(f\"Employee_ID----------->: {Guvi_Emp['EmpID'][4]}\")"
   ]
  },
  {
   "cell_type": "code",
   "execution_count": 87,
   "id": "0b745702",
   "metadata": {},
   "outputs": [
    {
     "name": "stdout",
     "output_type": "stream",
     "text": [
      "name:Karthick\n"
     ]
    }
   ],
   "source": [
    "print(f\"name:{Guvi_Emp['Name'][4]}\")"
   ]
  },
  {
   "cell_type": "markdown",
   "id": "10e2328e",
   "metadata": {},
   "source": [
    "# fromkeys"
   ]
  },
  {
   "cell_type": "code",
   "execution_count": 88,
   "id": "6c35ba74",
   "metadata": {},
   "outputs": [
    {
     "data": {
      "text/plain": [
       "{'Name': 60, 'age': 60, 'sex': 60}"
      ]
     },
     "execution_count": 88,
     "metadata": {},
     "output_type": "execute_result"
    }
   ],
   "source": [
    "Guvi_Emp={\"Emp_Id\":[1,2,13,4]}\n",
    "keys=[\"Name\",\"age\",\"sex\"]\n",
    "value=60\n",
    "Emp=dict.fromkeys(keys,value)\n",
    "Emp"
   ]
  },
  {
   "cell_type": "code",
   "execution_count": 89,
   "id": "7272001d",
   "metadata": {},
   "outputs": [
    {
     "data": {
      "text/plain": [
       "{'Name': 60, 'age': 60, 'sex': 60}"
      ]
     },
     "execution_count": 89,
     "metadata": {},
     "output_type": "execute_result"
    }
   ],
   "source": [
    "\n",
    "keys=[\"Name\",\"age\",\"sex\"]\n",
    "value=60\n",
    "Emp=dict.fromkeys(keys,value)\n",
    "Emp"
   ]
  },
  {
   "cell_type": "markdown",
   "id": "1ed268be",
   "metadata": {},
   "source": [
    "\n",
    "# Items"
   ]
  },
  {
   "cell_type": "code",
   "execution_count": 91,
   "id": "66cbf3e8",
   "metadata": {},
   "outputs": [
    {
     "data": {
      "text/plain": [
       "dict_items([('Name', 'rojo'), ('Age', 30), ('Income', 30000)])"
      ]
     },
     "execution_count": 91,
     "metadata": {},
     "output_type": "execute_result"
    }
   ],
   "source": [
    "Emp={'Name':'Raja',\n",
    "     'Age':30,\n",
    "     'Income':30000,\n",
    "     \"Name\":\"rojo\"} # It Allow Duplicate in Value But Not in Keys, Mutable, Order\n",
    "Emp.items()"
   ]
  },
  {
   "cell_type": "markdown",
   "id": "6ebf09f1",
   "metadata": {},
   "source": [
    "# keys"
   ]
  },
  {
   "cell_type": "code",
   "execution_count": 92,
   "id": "14c335a8",
   "metadata": {},
   "outputs": [
    {
     "data": {
      "text/plain": [
       "dict_keys(['Name', 'Age', 'Income'])"
      ]
     },
     "execution_count": 92,
     "metadata": {},
     "output_type": "execute_result"
    }
   ],
   "source": [
    "Emp={'Name':'Raja',\n",
    "     'Age':30,\n",
    "     'Income':30000} # It Allow Duplicate in Value But Not in Keys, Mutable, Order\n",
    "Emp.keys()"
   ]
  },
  {
   "cell_type": "markdown",
   "id": "2cc4151e",
   "metadata": {},
   "source": []
  },
  {
   "cell_type": "markdown",
   "id": "644eb875",
   "metadata": {},
   "source": [
    "# values"
   ]
  },
  {
   "cell_type": "code",
   "execution_count": 93,
   "id": "31e396b4",
   "metadata": {},
   "outputs": [
    {
     "data": {
      "text/plain": [
       "dict_values(['Raja', 30, 30000])"
      ]
     },
     "execution_count": 93,
     "metadata": {},
     "output_type": "execute_result"
    }
   ],
   "source": [
    "Emp={'Name':'Raja',\n",
    "     'Age':30,\n",
    "     'Income':30000} # It Allow Duplicate in Value But Not in Keys, Mutable, Order\n",
    "Emp.values()"
   ]
  },
  {
   "cell_type": "markdown",
   "id": "d8b2f361",
   "metadata": {},
   "source": [
    "\n",
    "# update"
   ]
  },
  {
   "cell_type": "code",
   "execution_count": 94,
   "id": "d88b574b",
   "metadata": {},
   "outputs": [
    {
     "data": {
      "text/plain": [
       "{'Name': 'Raja', 'Income': 30000, 'Age': 30}"
      ]
     },
     "execution_count": 94,
     "metadata": {},
     "output_type": "execute_result"
    }
   ],
   "source": [
    "Emp={'Name':'Raja',\n",
    "     'Income':30000}\n",
    "Emp.update({'Age':30})\n",
    "Emp"
   ]
  },
  {
   "cell_type": "markdown",
   "id": "44818b0f",
   "metadata": {},
   "source": [
    "# set default"
   ]
  },
  {
   "cell_type": "code",
   "execution_count": 95,
   "id": "c1258744",
   "metadata": {},
   "outputs": [
    {
     "name": "stdout",
     "output_type": "stream",
     "text": [
      "{'name': 'Alice', 'dept': 'IT', 'age': 30}\n"
     ]
    }
   ],
   "source": [
    "emp = {\n",
    "    \"name\": \"Alice\",\n",
    "    \"dept\": \"IT\"\n",
    "}\n",
    "\n",
    "emp.setdefault(\"dept\", \"HR\")  # key exists → does nothing\n",
    "emp.setdefault(\"age\", 30)     # key missing → adds it\n",
    "\n",
    "print(emp)"
   ]
  },
  {
   "cell_type": "markdown",
   "id": "41d61d37",
   "metadata": {},
   "source": [
    "# pop"
   ]
  },
  {
   "cell_type": "code",
   "execution_count": 98,
   "id": "720d99ed",
   "metadata": {},
   "outputs": [
    {
     "data": {
      "text/plain": [
       "{'dept': 'IT'}"
      ]
     },
     "execution_count": 98,
     "metadata": {},
     "output_type": "execute_result"
    }
   ],
   "source": [
    "emp = {\n",
    "    \"name\": \"Alice\",\n",
    "    \"dept\": \"IT\"\n",
    "}\n",
    "\n",
    "emp.pop(\"name\")\n",
    "emp"
   ]
  },
  {
   "cell_type": "code",
   "execution_count": 1,
   "id": "6d6a5562",
   "metadata": {},
   "outputs": [
    {
     "name": "stdout",
     "output_type": "stream",
     "text": [
      "You're Wrong :( The correct number was 4\n"
     ]
    }
   ],
   "source": [
    "import random\n",
    "\n",
    "n = int(input(\"Enter Number (1-10): \"))\n",
    "r = random.randint(1, 10)\n",
    "\n",
    "if n == r:\n",
    "    print(\"You're Right! ❤️\")\n",
    "else:\n",
    "    print(f\"You're Wrong :( The correct number was {r}\")\n"
   ]
  },
  {
   "cell_type": "markdown",
   "id": "75c70480",
   "metadata": {},
   "source": [
    "# condition"
   ]
  },
  {
   "cell_type": "code",
   "execution_count": 4,
   "id": "c1b0cceb",
   "metadata": {},
   "outputs": [
    {
     "name": "stdout",
     "output_type": "stream",
     "text": [
      "allow\n"
     ]
    }
   ],
   "source": [
    "a=int(input(\"enter age\"))\n",
    "if a>=20 and a<=50:\n",
    "    print(\"allow\")\n",
    "else:\n",
    "    print(\"child\")"
   ]
  },
  {
   "cell_type": "code",
   "execution_count": null,
   "id": "89a6bd9f",
   "metadata": {},
   "outputs": [],
   "source": []
  },
  {
   "cell_type": "code",
   "execution_count": 5,
   "id": "d36526c1",
   "metadata": {},
   "outputs": [
    {
     "name": "stdout",
     "output_type": "stream",
     "text": [
      "riji Your Mark is 92 And you Neet Score 23 Since You are Not Eligible for Doctor You Can Try for Other Courses\n"
     ]
    }
   ],
   "source": [
    "Name=input(\"Enter Your Name:\")\n",
    "Mark=int(input(\"Enter Your Mark:\"))\n",
    "\n",
    "\n",
    "\n",
    "if Mark>=91 and Mark<=100:\n",
    "  Neet=int(input(\"Enter Your Neet Score:\"))\n",
    "  if Neet>=90:\n",
    "    print(f\"{Name} Your Mark is {Mark} And you Neet Score {Neet} Since You are Eligible for Doctor\")\n",
    "  else:\n",
    "    print(f\"{Name} Your Mark is {Mark} And you Neet Score {Neet} Since You are Not Eligible for Doctor You Can Try for Other Courses\")\n",
    "\n",
    "\n",
    "elif Mark>=81 and Mark<=90:\n",
    "  print(f\"{Name} Your Mark is {Mark} And you are Eligible for Engineer\")\n",
    "\n",
    "elif Mark>=71 and Mark<=80:\n",
    "  print(f\"{Name} Your Mark is {Mark} And you are Eligible for Ats\")\n",
    "\n",
    "elif Mark>=41 and Mark<=70:\n",
    "  print(f\"{Name} Your Mark is {Mark} And you are Eligible for Diploma\")\n",
    "\n",
    "else:\n",
    "  print(f\"{Name} Your Mark is {Mark} And you are Fail\")\n",
    "\n"
   ]
  },
  {
   "cell_type": "code",
   "execution_count": 6,
   "id": "c06663e2",
   "metadata": {},
   "outputs": [
    {
     "name": "stdout",
     "output_type": "stream",
     "text": [
      "riji Your Mark is 33 And you Neet Score 33 Since You are Not Eligible for Doctor You Can Try for Other Courses\n"
     ]
    }
   ],
   "source": [
    "Name=input(\"Enter Your Name:\")\n",
    "Mark=int(input(\"Enter Your Mark:\"))\n",
    "Neet=int(input(\"Enter Your Neet Score:\"))\n",
    "\n",
    "if Mark>90 and Neet>90 and \"i\" in Name:\n",
    "  print(f\"{Name} Your Mark is {Mark} And you Neet Score {Neet} Since You are Eligible for Doctor\")\n",
    "else:\n",
    "  print(f\"{Name} Your Mark is {Mark} And you Neet Score {Neet} Since You are Not Eligible for Doctor You Can Try for Other Courses\")"
   ]
  },
  {
   "cell_type": "code",
   "execution_count": null,
   "id": "90074119",
   "metadata": {},
   "outputs": [],
   "source": []
  },
  {
   "cell_type": "markdown",
   "id": "94556d5f",
   "metadata": {},
   "source": [
    "# for loop\n"
   ]
  },
  {
   "cell_type": "code",
   "execution_count": 7,
   "id": "314be758",
   "metadata": {},
   "outputs": [
    {
     "name": "stdout",
     "output_type": "stream",
     "text": [
      "Raja\n",
      "Ravi\n",
      "Rani\n",
      "Ramu\n"
     ]
    }
   ],
   "source": [
    "Name=['Raja','Ravi','Rani','Ramu']\n",
    "\n",
    "for i in Name:\n",
    "  print(i)"
   ]
  },
  {
   "cell_type": "code",
   "execution_count": 8,
   "id": "af755b3b",
   "metadata": {},
   "outputs": [
    {
     "name": "stdout",
     "output_type": "stream",
     "text": [
      "['Raja', 'Ravi', 'Rani', 'Ramu']\n",
      "['Raja', 'Ravi', 'Rani', 'Ramu']\n",
      "['Raja', 'Ravi', 'Rani', 'Ramu']\n",
      "['Raja', 'Ravi', 'Rani', 'Ramu']\n"
     ]
    }
   ],
   "source": [
    "Name=['Raja','Ravi','Rani','Ramu']\n",
    "\n",
    "for i in Name:\n",
    "  print(Name)"
   ]
  },
  {
   "cell_type": "code",
   "execution_count": 19,
   "id": "435665c7",
   "metadata": {},
   "outputs": [
    {
     "name": "stdout",
     "output_type": "stream",
     "text": [
      "divisibleby 3  [39, 78, 0, 27, 78, 99, 0, 3, 6, 9]\n",
      "divisibleby 5  [10, 20, 25, 100, 0, 0, 5, 10]\n",
      "divisibleby 7 [0, 0, 7]\n"
     ]
    }
   ],
   "source": [
    "Num=[10,20,39,67,78,44,25,22,68,100,0,103,27,78,99,0,1,2,3,4,5,6,7,8,9,10]\n",
    "\n",
    "num_div_3=[]\n",
    "num_div_5=[]\n",
    "num_div_7=[]\n",
    "for i in Num:\n",
    "    if i%3==0:\n",
    "        num_div_3.append(i)\n",
    "    if i%5==0:\n",
    "        num_div_5.append(i)\n",
    "    if i%7==0:\n",
    "        num_div_7.append(i)\n",
    "print(\"divisibleby 3 \",num_div_3)\n",
    "print(\"divisibleby 5 \",num_div_5)\n",
    "print(\"divisibleby 7\",num_div_7)\n",
    "    \n",
    "        \n",
    "    \n",
    "    "
   ]
  },
  {
   "cell_type": "code",
   "execution_count": 13,
   "id": "0316354d",
   "metadata": {},
   "outputs": [
    {
     "name": "stdout",
     "output_type": "stream",
     "text": [
      "Cat, Dog, Elephant, Tiger, Lion\n"
     ]
    }
   ],
   "source": [
    "Animals=['Cat','Dog','Elephant','Tiger','Lion']\n",
    "\n",
    "print(', '.join(Animals))"
   ]
  },
  {
   "cell_type": "code",
   "execution_count": 2,
   "id": "84e42859",
   "metadata": {},
   "outputs": [
    {
     "name": "stdout",
     "output_type": "stream",
     "text": [
      "Cat#Dog#Elephant#Tiger#Lion\n"
     ]
    }
   ],
   "source": [
    "Animals=['Cat','Dog','Elephant','Tiger','Lion']\n",
    "\n",
    "print('#'.join(Animals))"
   ]
  },
  {
   "cell_type": "code",
   "execution_count": 3,
   "id": "5ba859e2",
   "metadata": {},
   "outputs": [
    {
     "name": "stdout",
     "output_type": "stream",
     "text": [
      "Cat#Dog#Elephant#Tiger#Lion\n"
     ]
    }
   ],
   "source": [
    "print(*Animals,sep='#')"
   ]
  },
  {
   "cell_type": "code",
   "execution_count": 4,
   "id": "3b0f2944",
   "metadata": {},
   "outputs": [
    {
     "name": "stdout",
     "output_type": "stream",
     "text": [
      "Cat%Dog%Elephant%Tiger%Lion\n"
     ]
    }
   ],
   "source": [
    "print(*Animals,sep='%')"
   ]
  },
  {
   "cell_type": "code",
   "execution_count": 7,
   "id": "5766dcea",
   "metadata": {},
   "outputs": [
    {
     "name": "stdout",
     "output_type": "stream",
     "text": [
      "r#i#j#i#n#a\n"
     ]
    }
   ],
   "source": [
    "A=['rijina','10']\n",
    "print(\"#\".join(A[0]))"
   ]
  },
  {
   "cell_type": "code",
   "execution_count": 13,
   "id": "5aee26d4",
   "metadata": {},
   "outputs": [
    {
     "name": "stdout",
     "output_type": "stream",
     "text": [
      "1 2 3 4 "
     ]
    }
   ],
   "source": [
    "Name=[1,2,3,4]\n",
    "for i in Name:\n",
    "    print(i,end=' ')"
   ]
  },
  {
   "cell_type": "markdown",
   "id": "c6924ae5",
   "metadata": {},
   "source": [
    "# reverse\n"
   ]
  },
  {
   "cell_type": "code",
   "execution_count": 14,
   "id": "9a28b46d",
   "metadata": {},
   "outputs": [
    {
     "name": "stdout",
     "output_type": "stream",
     "text": [
      "4 3 2 1 "
     ]
    }
   ],
   "source": [
    "Name=[1,2,3,4]\n",
    "for i in Name[::-1]:\n",
    "     print(i,end=' ')\n"
   ]
  },
  {
   "cell_type": "code",
   "execution_count": 15,
   "id": "c1f08240",
   "metadata": {},
   "outputs": [
    {
     "name": "stdout",
     "output_type": "stream",
     "text": [
      "[4, 3, 2, 1]\n"
     ]
    }
   ],
   "source": [
    "Name=[1,2,3,4]\n",
    "print(Name[::-1])"
   ]
  },
  {
   "cell_type": "code",
   "execution_count": 17,
   "id": "bda2766f",
   "metadata": {},
   "outputs": [
    {
     "name": "stdout",
     "output_type": "stream",
     "text": [
      "['Ramu', 'Rani', 'Ravi', 'Raja']\n"
     ]
    }
   ],
   "source": [
    "Name=['Raja','Ravi','Rani','Ramu']\n",
    "Name.reverse()\n",
    "print(Name)"
   ]
  },
  {
   "cell_type": "code",
   "execution_count": 18,
   "id": "59f3dbcd",
   "metadata": {},
   "outputs": [
    {
     "name": "stdout",
     "output_type": "stream",
     "text": [
      "R&a&j&a\n",
      "R&a&v&i\n",
      "R&a&n&i\n",
      "R&a&m&u\n"
     ]
    }
   ],
   "source": [
    "Name=['Raja','Ravi','Rani','Ramu']\n",
    "for i in Name:\n",
    "  print(\"&\".join(i))"
   ]
  },
  {
   "cell_type": "code",
   "execution_count": 21,
   "id": "5c931615",
   "metadata": {},
   "outputs": [
    {
     "data": {
      "text/plain": [
       "100"
      ]
     },
     "execution_count": 21,
     "metadata": {},
     "output_type": "execute_result"
    }
   ],
   "source": [
    "Nums=[10,15,20,39,67,78,44,25,22,68,100,12,103,27,78,99,0,1,2,3,4,5,6,7,8,9,10]\n",
    "\n",
    "\n",
    "A=Nums.pop(10)\n",
    "A"
   ]
  },
  {
   "cell_type": "markdown",
   "id": "8285e300",
   "metadata": {},
   "source": [
    "# FOR RANGE"
   ]
  },
  {
   "cell_type": "code",
   "execution_count": 22,
   "id": "2f818444",
   "metadata": {},
   "outputs": [
    {
     "name": "stdout",
     "output_type": "stream",
     "text": [
      "1\n",
      "2\n",
      "3\n",
      "4\n",
      "5\n",
      "6\n",
      "7\n",
      "8\n",
      "9\n",
      "10\n"
     ]
    }
   ],
   "source": [
    "for i in range(1,11):   # Start, Stop, Step\n",
    "  print(i)"
   ]
  },
  {
   "cell_type": "code",
   "execution_count": 24,
   "id": "072d2d0d",
   "metadata": {},
   "outputs": [
    {
     "name": "stdout",
     "output_type": "stream",
     "text": [
      "10\n",
      "9\n",
      "8\n",
      "7\n",
      "6\n",
      "5\n",
      "4\n",
      "3\n",
      "2\n",
      "1\n"
     ]
    }
   ],
   "source": [
    "for i in range(10,0,-1):\n",
    "  print(i)"
   ]
  },
  {
   "cell_type": "code",
   "execution_count": 25,
   "id": "865c6449",
   "metadata": {},
   "outputs": [
    {
     "name": "stdout",
     "output_type": "stream",
     "text": [
      "10 8 6 4 2 "
     ]
    }
   ],
   "source": [
    "for i in range(10,1,-2):\n",
    "  print(i,end=' ')"
   ]
  },
  {
   "cell_type": "code",
   "execution_count": 30,
   "id": "31b4d1a9",
   "metadata": {},
   "outputs": [
    {
     "name": "stdout",
     "output_type": "stream",
     "text": [
      "10\n",
      "9\n",
      "8\n",
      "7\n",
      "6\n"
     ]
    }
   ],
   "source": [
    "n=int(input('Enter Number')) #10 9 8 7 6 5\n",
    "\n",
    "for i in range(10,n,-1):\n",
    "  print(i)"
   ]
  },
  {
   "cell_type": "code",
   "execution_count": 31,
   "id": "fe1dd5c2",
   "metadata": {},
   "outputs": [
    {
     "name": "stdout",
     "output_type": "stream",
     "text": [
      "House Address 2\n",
      "House Address 2\n",
      "House Address 2\n"
     ]
    }
   ],
   "source": [
    "House=[10,20,0,8,89,0,78,13,14,0,7] #\n",
    "\n",
    "for i in House:\n",
    "  if i==0:\n",
    "    print('House Address',House.index(i))"
   ]
  },
  {
   "cell_type": "code",
   "execution_count": 34,
   "id": "8f5d4db1",
   "metadata": {},
   "outputs": [
    {
     "name": "stdout",
     "output_type": "stream",
     "text": [
      "0 10\n",
      "1 20\n",
      "2 0\n",
      "3 8\n",
      "4 89\n",
      "5 0\n",
      "6 78\n",
      "7 13\n",
      "8 14\n",
      "9 0\n",
      "10 7\n"
     ]
    }
   ],
   "source": [
    "House=[10,20,0,8,89,0,78,13,14,0,7] #\n",
    "\n",
    "\n",
    "for i in range(len(House)):\n",
    "  print(i,House[i])\n",
    " "
   ]
  },
  {
   "cell_type": "code",
   "execution_count": 37,
   "id": "c07bc1a5",
   "metadata": {},
   "outputs": [
    {
     "name": "stdout",
     "output_type": "stream",
     "text": [
      "index:2,value:0\n",
      "index:5,value:0\n",
      "index:9,value:0\n",
      "index:14,value:0\n"
     ]
    }
   ],
   "source": [
    "House=[10,20,0,8,89,0,78,13,14,0,7,10,78,67,0,8] #\n",
    "\n",
    "\n",
    "for i in range(len(House)):\n",
    "  if House[i]==0:\n",
    "    print(f'index:{i},value:{House[i]}')"
   ]
  },
  {
   "cell_type": "code",
   "execution_count": 42,
   "id": "ff6bd552",
   "metadata": {},
   "outputs": [
    {
     "name": "stdout",
     "output_type": "stream",
     "text": [
      "index:2,value:0\n",
      "index:5,value:0\n",
      "index:9,value:0\n",
      "index:14,value:0\n"
     ]
    }
   ],
   "source": [
    "House=[10,20,0,8,89,0,78,13,14,0,7,10,78,67,0,8] #\n",
    "\n",
    "\n",
    "for index,value in enumerate(House):\n",
    "  if value==0:\n",
    "    print(f'index:{index},value:{value}')"
   ]
  },
  {
   "cell_type": "code",
   "execution_count": 43,
   "id": "26fdbb87",
   "metadata": {},
   "outputs": [
    {
     "data": {
      "text/plain": [
       "{'EmpID': [44, 55, 67, 21, 7, 8, 19, 27],\n",
       " 'Name': ['Rajesh',\n",
       "  'Kumar',\n",
       "  'Kamal',\n",
       "  'Saran',\n",
       "  'Karthick',\n",
       "  'Iswarya',\n",
       "  'Divya',\n",
       "  'David'],\n",
       " 'Designation': ['Developer',\n",
       "  'Tester',\n",
       "  'TeamLead',\n",
       "  'Manager',\n",
       "  'Jr.Developer',\n",
       "  'Accontant',\n",
       "  'HR',\n",
       "  'Admin'],\n",
       " 'Salary': [25000, 30000, 45000, 60000, 20000, 22000, 15000, 28000]}"
      ]
     },
     "execution_count": 43,
     "metadata": {},
     "output_type": "execute_result"
    }
   ],
   "source": [
    "Guvi_Emp={\n",
    "    'EmpID': [44,55,67,21,7,8,19,27],\n",
    "    'Name':['Rajesh','Kumar','Kamal','Saran','Karthick','Iswarya','Divya','David'],\n",
    "    'Designation':['Developer','Tester','TeamLead','Manager','Jr.Developer','Accontant','HR','Admin'],\n",
    "    'Salary': [25000,30000,45000,60000,20000,22000,15000,28000],\n",
    "\n",
    "}\n",
    "Guvi_Emp\n",
    "\n"
   ]
  },
  {
   "cell_type": "code",
   "execution_count": 45,
   "id": "f9ee5a34",
   "metadata": {},
   "outputs": [
    {
     "name": "stdout",
     "output_type": "stream",
     "text": [
      "Name: Rajesh\n",
      "EmpID: 44\n",
      "Designation: Developer\n",
      "Salary: 25000\n",
      "*-**-**-**-**-**-**-**-**-**-*\n",
      "Name: Kumar\n",
      "EmpID: 55\n",
      "Designation: Tester\n",
      "Salary: 30000\n",
      "*-**-**-**-**-**-**-**-**-**-*\n",
      "Name: Kamal\n",
      "EmpID: 67\n",
      "Designation: TeamLead\n",
      "Salary: 45000\n",
      "*-**-**-**-**-**-**-**-**-**-*\n",
      "Name: Saran\n",
      "EmpID: 21\n",
      "Designation: Manager\n",
      "Salary: 60000\n",
      "*-**-**-**-**-**-**-**-**-**-*\n",
      "Name: Karthick\n",
      "EmpID: 7\n",
      "Designation: Jr.Developer\n",
      "Salary: 20000\n",
      "*-**-**-**-**-**-**-**-**-**-*\n",
      "Name: Iswarya\n",
      "EmpID: 8\n",
      "Designation: Accontant\n",
      "Salary: 22000\n",
      "*-**-**-**-**-**-**-**-**-**-*\n",
      "Name: Divya\n",
      "EmpID: 19\n",
      "Designation: HR\n",
      "Salary: 15000\n",
      "*-**-**-**-**-**-**-**-**-**-*\n",
      "Name: David\n",
      "EmpID: 27\n",
      "Designation: Admin\n",
      "Salary: 28000\n",
      "*-**-**-**-**-**-**-**-**-**-*\n"
     ]
    }
   ],
   "source": [
    "for emp_id,name,desg,sal in zip(Guvi_Emp['EmpID'],Guvi_Emp['Name'],Guvi_Emp['Designation'],Guvi_Emp['Salary']):\n",
    "  print(f'Name: {name}')\n",
    "  print(f'EmpID: {emp_id}')\n",
    "  print(f'Designation: {desg}')\n",
    "  print(f'Salary: {sal}')\n",
    "  print('*-*'*10)\n"
   ]
  },
  {
   "cell_type": "code",
   "execution_count": 46,
   "id": "686d5c82",
   "metadata": {},
   "outputs": [
    {
     "name": "stdout",
     "output_type": "stream",
     "text": [
      "1 10\n",
      "1 1\n",
      "1 3\n",
      "1 5\n",
      "----------------------------------------\n",
      "2 10\n",
      "2 1\n",
      "2 3\n",
      "2 5\n",
      "----------------------------------------\n",
      "3 10\n",
      "3 1\n",
      "3 3\n",
      "3 5\n",
      "----------------------------------------\n",
      "4 10\n",
      "4 1\n",
      "4 3\n",
      "4 5\n",
      "----------------------------------------\n",
      "5 10\n",
      "5 1\n",
      "5 3\n",
      "5 5\n",
      "----------------------------------------\n",
      "6 10\n",
      "6 1\n",
      "6 3\n",
      "6 5\n",
      "----------------------------------------\n"
     ]
    }
   ],
   "source": [
    "A=[1,2,3,4,5,6]\n",
    "B=[10,1,3,5]\n",
    "\n",
    "# 1, 3, 5\n",
    "\n",
    "for i in A:\n",
    "  for j in B:\n",
    "    print(i,j)\n",
    "  print('--'*20)\n"
   ]
  },
  {
   "cell_type": "code",
   "execution_count": 47,
   "id": "3e1c0ef9",
   "metadata": {},
   "outputs": [
    {
     "name": "stdout",
     "output_type": "stream",
     "text": [
      "1 10\n",
      "1 3\n",
      "1 5\n",
      "----------------------------------------\n",
      "2 10\n",
      "2 1\n",
      "2 3\n",
      "2 5\n",
      "----------------------------------------\n",
      "3 10\n",
      "3 1\n",
      "3 5\n",
      "----------------------------------------\n",
      "4 10\n",
      "4 1\n",
      "4 3\n",
      "4 5\n",
      "----------------------------------------\n",
      "5 10\n",
      "5 1\n",
      "5 3\n",
      "----------------------------------------\n",
      "6 10\n",
      "6 1\n",
      "6 3\n",
      "6 5\n",
      "----------------------------------------\n"
     ]
    }
   ],
   "source": [
    "A=[1,2,3,4,5,6]\n",
    "B=[10,1,3,5]\n",
    "\n",
    "# 1, 3, 5\n",
    "\n",
    "for i in A:\n",
    "  for j in B:\n",
    "    if i!=j:\n",
    "      print(i,j)\n",
    "  print('--'*20)"
   ]
  },
  {
   "cell_type": "code",
   "execution_count": 48,
   "id": "5a7d490d",
   "metadata": {},
   "outputs": [
    {
     "name": "stdout",
     "output_type": "stream",
     "text": [
      "10\n",
      "20\n"
     ]
    }
   ],
   "source": [
    "L=[10,20,0,56,89,0,8]\n",
    "\n",
    "for i in L:\n",
    "  if i==0:\n",
    "    break\n",
    "  else:\n",
    "    print(i)"
   ]
  },
  {
   "cell_type": "code",
   "execution_count": 14,
   "id": "8107ec96",
   "metadata": {},
   "outputs": [
    {
     "name": "stdout",
     "output_type": "stream",
     "text": [
      "10\n",
      "20\n",
      "56\n",
      "89\n",
      "8\n"
     ]
    }
   ],
   "source": [
    "L=[10,20,0,56,89,0,8]\n",
    "\n",
    "for i in L:\n",
    "  if i==0:\n",
    "    continue\n",
    "  else:\n",
    "    print(i)"
   ]
  },
  {
   "cell_type": "code",
   "execution_count": 15,
   "id": "325db92c",
   "metadata": {},
   "outputs": [
    {
     "name": "stdout",
     "output_type": "stream",
     "text": [
      "10\n",
      "20\n",
      "56\n",
      "89\n",
      "8\n"
     ]
    }
   ],
   "source": [
    "L=[10,20,0,56,89,0,8]\n",
    "\n",
    "for i in L:\n",
    "  if i==0:\n",
    "    pass\n",
    "  else:\n",
    "    print(i)"
   ]
  },
  {
   "cell_type": "code",
   "execution_count": 16,
   "id": "711ada06",
   "metadata": {},
   "outputs": [
    {
     "name": "stdout",
     "output_type": "stream",
     "text": [
      "10\n",
      "20\n",
      "zero found\n",
      "condition\n",
      "56\n",
      "89\n",
      "zero found\n",
      "condition\n",
      "8\n"
     ]
    }
   ],
   "source": [
    "L=[10,20,0,56,89,0,8]\n",
    "\n",
    "for i in L:\n",
    "  if i==0:\n",
    "    print(\"zero found\")\n",
    "    pass\n",
    "    print(\"condition\")\n",
    "  else:\n",
    "    print(i)"
   ]
  },
  {
   "cell_type": "code",
   "execution_count": 17,
   "id": "24bc54b6",
   "metadata": {},
   "outputs": [
    {
     "name": "stdout",
     "output_type": "stream",
     "text": [
      "10\n",
      "20\n",
      "zero found\n",
      "56\n",
      "89\n",
      "zero found\n",
      "8\n"
     ]
    }
   ],
   "source": [
    "L=[10,20,0,56,89,0,8]\n",
    "\n",
    "for i in L:\n",
    "  if i==0:\n",
    "    print(\"zero found\")\n",
    "    continue\n",
    "    print(\"condition\")\n",
    "  else:\n",
    "    print(i)"
   ]
  },
  {
   "cell_type": "code",
   "execution_count": null,
   "id": "89fb5c2c",
   "metadata": {},
   "outputs": [
    {
     "name": "stdout",
     "output_type": "stream",
     "text": [
      "zero found\n",
      "zero found\n"
     ]
    }
   ],
   "source": [
    "L=[10,20,0,56,89,0,8]\n",
    "\n",
    "for i in L:\n",
    "  if i==0:\n",
    "    print(\"zero found\")\n",
    "    pass\n",
    "if i>20:\n",
    "     print(L[i])\n"
   ]
  },
  {
   "cell_type": "code",
   "execution_count": 50,
   "id": "2706dd4f",
   "metadata": {},
   "outputs": [
    {
     "name": "stdout",
     "output_type": "stream",
     "text": [
      "10\n",
      "20\n",
      "56\n",
      "89\n",
      "8\n"
     ]
    }
   ],
   "source": [
    "L=[10,20,0,56,89,0,8]\n",
    "\n",
    "for i in L:\n",
    "  if i==0:\n",
    "\n",
    "    continue\n",
    "    print('Zero Found')\n",
    "\n",
    "\n",
    "  else:\n",
    "    print(i)"
   ]
  },
  {
   "cell_type": "code",
   "execution_count": 52,
   "id": "09344c2e",
   "metadata": {},
   "outputs": [
    {
     "name": "stdout",
     "output_type": "stream",
     "text": [
      "Pin Matched\n",
      "Transaction Successfull\n"
     ]
    }
   ],
   "source": [
    "Pin=int(input('Enter Your Pin'))\n",
    "\n",
    "if Pin==4567:\n",
    "  print('Pin Matched')\n",
    "  Amount=int(input('Enter Amount'))\n",
    "  balc=10000\n",
    "  if Amount<=balc:\n",
    "    print('Transaction Successfull')\n",
    "  else:\n",
    "    pass # Just as Placeholder\n",
    "else:\n",
    "  print('Pin Not Matched')"
   ]
  },
  {
   "cell_type": "code",
   "execution_count": 7,
   "id": "4505fb84",
   "metadata": {},
   "outputs": [
    {
     "name": "stdout",
     "output_type": "stream",
     "text": [
      "Index: 5, Value: 0\n",
      "Index: 4, Value: 89\n",
      "Index: 3, Value: 8\n",
      "Index: 2, Value: 0\n",
      "Index: 1, Value: 20\n",
      "Index: 0, Value: 10\n"
     ]
    }
   ],
   "source": [
    "House=[10,20,0,8,89,0] #\n",
    "\n",
    "\n",
    "for i in range(len(House)-1,-1,-1):\n",
    "  \n",
    "    print(f'Index: {i}, Value: {House[i]}')"
   ]
  },
  {
   "cell_type": "code",
   "execution_count": 13,
   "id": "69cb063d",
   "metadata": {},
   "outputs": [
    {
     "name": "stdout",
     "output_type": "stream",
     "text": [
      "[5, 4, 3, 2, 1]\n"
     ]
    }
   ],
   "source": [
    "b = [1, 2, 3, 4, 5]\n",
    "A = b[::-1]\n",
    "print(A)"
   ]
  },
  {
   "cell_type": "markdown",
   "id": "a01b3149",
   "metadata": {},
   "source": [
    "# Markdown\n"
   ]
  },
  {
   "cell_type": "code",
   "execution_count": 28,
   "id": "60c6a878",
   "metadata": {},
   "outputs": [
    {
     "name": "stdout",
     "output_type": "stream",
     "text": [
      "2\n",
      "3\n",
      "4\n",
      "5\n",
      "6\n",
      "7\n",
      "8\n",
      "9\n",
      "10\n",
      "11\n"
     ]
    }
   ],
   "source": [
    "n=1 # Intial Value\n",
    "while n<=10: # Condition\n",
    "  n=n+1 # Increment\n",
    "  print(n) # Statement"
   ]
  },
  {
   "cell_type": "code",
   "execution_count": 29,
   "id": "ebf0e0e7",
   "metadata": {},
   "outputs": [
    {
     "name": "stdout",
     "output_type": "stream",
     "text": [
      "1\n",
      "2\n",
      "3\n",
      "4\n",
      "5\n",
      "6\n",
      "7\n",
      "8\n",
      "9\n",
      "10\n"
     ]
    }
   ],
   "source": [
    "n=1 # Intial Value\n",
    "while n<=10: # Condition\n",
    "  n=n+1 # Increment\n",
    "  print(n-1) # Statement"
   ]
  },
  {
   "cell_type": "code",
   "execution_count": 30,
   "id": "1a724319",
   "metadata": {},
   "outputs": [
    {
     "name": "stdout",
     "output_type": "stream",
     "text": [
      "1\n",
      "2\n",
      "3\n",
      "4\n",
      "5\n",
      "6\n",
      "7\n",
      "8\n",
      "9\n",
      "10\n"
     ]
    }
   ],
   "source": [
    "n=0 # Intial Value\n",
    "while n<10: # Condition\n",
    "  n=n+1 # Increment\n",
    "  print(n) # Statement"
   ]
  },
  {
   "cell_type": "code",
   "execution_count": 32,
   "id": "c8f6b81f",
   "metadata": {},
   "outputs": [
    {
     "name": "stdout",
     "output_type": "stream",
     "text": [
      "Cat\n",
      "Dog\n",
      "Cow\n",
      "Lion\n",
      "Tiger\n"
     ]
    }
   ],
   "source": [
    "Animals=['Cat','Dog','Cow','Lion','Tiger']\n",
    "\n",
    "i=0\n",
    "\n",
    "while i<len(Animals):\n",
    "  print(Animals[i])\n",
    "  i=i+1\n"
   ]
  },
  {
   "cell_type": "code",
   "execution_count": 33,
   "id": "8d729b7e",
   "metadata": {},
   "outputs": [
    {
     "name": "stdout",
     "output_type": "stream",
     "text": [
      "Cat\n",
      "Cow\n",
      "Tiger\n"
     ]
    }
   ],
   "source": [
    "\n",
    "Animals=['Cat','Dog','Cow','Lion','Tiger']\n",
    "\n",
    "i=0\n",
    "\n",
    "while i<len(Animals):\n",
    "  print(Animals[i])\n",
    "  i=i+2"
   ]
  },
  {
   "cell_type": "code",
   "execution_count": 34,
   "id": "bbf5fd24",
   "metadata": {},
   "outputs": [
    {
     "data": {
      "text/plain": [
       "['Cat', 'Cow', 'Dog', 'Lion', 'Tiger']"
      ]
     },
     "execution_count": 34,
     "metadata": {},
     "output_type": "execute_result"
    }
   ],
   "source": [
    "Animals=['Cat','Dog','Cow','Lion','Tiger']\n",
    "\n",
    "# Sort Alphabetically\n",
    "Animals=sorted(Animals)\n",
    "\n",
    "Animals"
   ]
  },
  {
   "cell_type": "code",
   "execution_count": 36,
   "id": "71a2175c",
   "metadata": {},
   "outputs": [
    {
     "data": {
      "text/plain": [
       "['Cat', 'Cow', 'Dog', 'Lion', 'Tiger']"
      ]
     },
     "execution_count": 36,
     "metadata": {},
     "output_type": "execute_result"
    }
   ],
   "source": [
    "Animals=['Cat','Dog','Cow','Lion','Tiger']\n",
    "\n",
    "Animals.sort()\n",
    "Animals"
   ]
  },
  {
   "cell_type": "markdown",
   "id": "19760aff",
   "metadata": {},
   "source": [
    "# function"
   ]
  },
  {
   "cell_type": "code",
   "execution_count": 37,
   "id": "4e968bfc",
   "metadata": {},
   "outputs": [
    {
     "data": {
      "text/plain": [
       "15"
      ]
     },
     "execution_count": 37,
     "metadata": {},
     "output_type": "execute_result"
    }
   ],
   "source": [
    "l=[1,2,3,4,5]\n",
    "\n",
    "sum(l)"
   ]
  },
  {
   "cell_type": "markdown",
   "id": "0c72b4de",
   "metadata": {},
   "source": []
  },
  {
   "cell_type": "code",
   "execution_count": 38,
   "id": "e75df1f0",
   "metadata": {},
   "outputs": [
    {
     "data": {
      "text/plain": [
       "2.23606797749979"
      ]
     },
     "execution_count": 38,
     "metadata": {},
     "output_type": "execute_result"
    }
   ],
   "source": [
    "import math\n",
    "math.sqrt(5)"
   ]
  },
  {
   "cell_type": "code",
   "execution_count": 39,
   "id": "61c65c23",
   "metadata": {},
   "outputs": [],
   "source": [
    "def Odd_Or_Even(X):  # define a function, named Odd_Or_Even, pass a list as an argument\n",
    "\n",
    "  for i in X:\n",
    "    if i%2==0:\n",
    "      print(f'{i} is Even')\n",
    "    else:\n",
    "      print(f'{i} is Odd')"
   ]
  },
  {
   "cell_type": "code",
   "execution_count": 40,
   "id": "9a990b4f",
   "metadata": {},
   "outputs": [
    {
     "name": "stdout",
     "output_type": "stream",
     "text": [
      "1 is Odd\n",
      "2 is Even\n",
      "3 is Odd\n",
      "4 is Even\n",
      "5 is Odd\n"
     ]
    }
   ],
   "source": [
    "l=[1,2,3,4,5]\n",
    "\n",
    "Odd_Or_Even(l)"
   ]
  },
  {
   "cell_type": "code",
   "execution_count": 41,
   "id": "1ae4c40b",
   "metadata": {},
   "outputs": [],
   "source": [
    "def Square_5(num):\n",
    "\n",
    "  print(num**2+5)"
   ]
  },
  {
   "cell_type": "code",
   "execution_count": 42,
   "id": "1564476f",
   "metadata": {},
   "outputs": [
    {
     "name": "stdout",
     "output_type": "stream",
     "text": [
      "9\n"
     ]
    }
   ],
   "source": [
    "Square_5(2)"
   ]
  },
  {
   "cell_type": "code",
   "execution_count": 43,
   "id": "aaa13a7d",
   "metadata": {},
   "outputs": [],
   "source": [
    "def Sum_5(num):\n",
    "  return num+5"
   ]
  },
  {
   "cell_type": "code",
   "execution_count": 44,
   "id": "35067e2d",
   "metadata": {},
   "outputs": [
    {
     "data": {
      "text/plain": [
       "10"
      ]
     },
     "execution_count": 44,
     "metadata": {},
     "output_type": "execute_result"
    }
   ],
   "source": [
    "Sum_5(5)"
   ]
  },
  {
   "cell_type": "code",
   "execution_count": 46,
   "id": "82321631",
   "metadata": {},
   "outputs": [
    {
     "name": "stdout",
     "output_type": "stream",
     "text": [
      "30\n"
     ]
    }
   ],
   "source": [
    "Square_5(5)"
   ]
  },
  {
   "cell_type": "code",
   "execution_count": 47,
   "id": "f4d00036",
   "metadata": {},
   "outputs": [
    {
     "name": "stdout",
     "output_type": "stream",
     "text": [
      "Mango\n",
      "Orange\n"
     ]
    }
   ],
   "source": [
    "Fruits=['Apple','Mango','Banana','Orange','Pineapple']\n",
    "\n",
    "def Fruits_With_O(Fruits):\n",
    "  for i in Fruits:\n",
    "    if 'o' in i.lower():\n",
    "      print(i)\n",
    "\n",
    "\n",
    "\n",
    "\n",
    "Fruits_With_O(Fruits)"
   ]
  },
  {
   "cell_type": "code",
   "execution_count": 48,
   "id": "2f4a8f59",
   "metadata": {},
   "outputs": [],
   "source": [
    "def welcome(name):\n",
    "  print(f'Welcome {name}')"
   ]
  },
  {
   "cell_type": "code",
   "execution_count": 49,
   "id": "2abc72aa",
   "metadata": {},
   "outputs": [
    {
     "name": "stdout",
     "output_type": "stream",
     "text": [
      "Welcome riji\n"
     ]
    }
   ],
   "source": [
    "Name=input('Enter Your Name')\n",
    "\n",
    "welcome(Name)"
   ]
  },
  {
   "cell_type": "code",
   "execution_count": 50,
   "id": "37f6d046",
   "metadata": {},
   "outputs": [],
   "source": [
    "def welcome1(name='Guest'):\n",
    "  print(f'Welcome {name}')"
   ]
  },
  {
   "cell_type": "code",
   "execution_count": 51,
   "id": "fced7b0c",
   "metadata": {},
   "outputs": [
    {
     "name": "stdout",
     "output_type": "stream",
     "text": [
      "Welcome Guest\n"
     ]
    }
   ],
   "source": [
    "welcome1()"
   ]
  },
  {
   "cell_type": "code",
   "execution_count": 56,
   "id": "ae5400ea",
   "metadata": {},
   "outputs": [],
   "source": [
    "def Details(name='Guest',age=None,gender=None,address=None):\n",
    "  print(\"Details\")\n",
    "  print(f'Name: {name}')\n",
    "  print(f'Age: {age}')\n",
    "  print(f'Gender: {gender}')\n",
    "  print(f'Address: {address}')"
   ]
  },
  {
   "cell_type": "code",
   "execution_count": 54,
   "id": "d62d0bcd",
   "metadata": {},
   "outputs": [
    {
     "name": "stdout",
     "output_type": "stream",
     "text": [
      "Details\n",
      "Name: Karthick\n",
      "Age: 25\n",
      "Gender: Male\n",
      "Address: None\n"
     ]
    }
   ],
   "source": [
    "Details('Karthick',25,'Male')"
   ]
  },
  {
   "cell_type": "code",
   "execution_count": 62,
   "id": "877a9a8d",
   "metadata": {},
   "outputs": [],
   "source": [
    "def Details(**detail): #keyword arguments **krgs\n",
    "  print(detail['name'])\n",
    "  print(detail['age'])\n",
    "  print(detail['gender'])\n",
    "  print(detail['Address'])\n",
    "  print(detail['Pin'])"
   ]
  },
  {
   "cell_type": "code",
   "execution_count": 63,
   "id": "ee7ddb7f",
   "metadata": {},
   "outputs": [
    {
     "name": "stdout",
     "output_type": "stream",
     "text": [
      "Karthick\n",
      "25\n",
      "Male\n",
      "Chennai\n",
      "600097\n"
     ]
    }
   ],
   "source": [
    "Details(name='Karthick',age=25,gender='Male',Address='Chennai',Pin=600097)"
   ]
  },
  {
   "cell_type": "code",
   "execution_count": 65,
   "id": "4c82cc9b",
   "metadata": {},
   "outputs": [
    {
     "name": "stdout",
     "output_type": "stream",
     "text": [
      "square 16\n"
     ]
    }
   ],
   "source": [
    "x=int(input())\n",
    "print('square',x**2)"
   ]
  },
  {
   "cell_type": "code",
   "execution_count": 66,
   "id": "6a554936",
   "metadata": {},
   "outputs": [
    {
     "name": "stdout",
     "output_type": "stream",
     "text": [
      "absolute 2\n"
     ]
    }
   ],
   "source": [
    "x=int(input())\n",
    "# Absolute Value\n",
    "print('absolute',abs(x))"
   ]
  },
  {
   "cell_type": "code",
   "execution_count": 69,
   "id": "8917bef7",
   "metadata": {},
   "outputs": [
    {
     "name": "stdout",
     "output_type": "stream",
     "text": [
      "round 4\n"
     ]
    }
   ],
   "source": [
    "X=float(input())\n",
    "print('round',round(X))"
   ]
  },
  {
   "cell_type": "code",
   "execution_count": 70,
   "id": "2b68ddd7",
   "metadata": {},
   "outputs": [
    {
     "name": "stdout",
     "output_type": "stream",
     "text": [
      "pow 81\n"
     ]
    }
   ],
   "source": [
    "x=int(input())\n",
    "y=int(input())\n",
    "print('pow',pow(x,y))"
   ]
  },
  {
   "cell_type": "markdown",
   "id": "dc6894c9",
   "metadata": {},
   "source": [
    "# QUOTIENT,REMINDER"
   ]
  },
  {
   "cell_type": "code",
   "execution_count": 73,
   "id": "5d46b88d",
   "metadata": {},
   "outputs": [
    {
     "name": "stdout",
     "output_type": "stream",
     "text": [
      "divmod (3, 0)\n"
     ]
    }
   ],
   "source": [
    "x=int(input())\n",
    "y=int(input())\n",
    "print('divmod',divmod(x,y))"
   ]
  },
  {
   "cell_type": "code",
   "execution_count": 74,
   "id": "563a37ae",
   "metadata": {},
   "outputs": [
    {
     "name": "stdout",
     "output_type": "stream",
     "text": [
      "Min 2\n"
     ]
    }
   ],
   "source": [
    "nums=[2,4,6,7,8,9,10,100]\n",
    "print('Min',min(nums))"
   ]
  },
  {
   "cell_type": "code",
   "execution_count": 75,
   "id": "6f283b47",
   "metadata": {},
   "outputs": [
    {
     "name": "stdout",
     "output_type": "stream",
     "text": [
      "Max 100\n"
     ]
    }
   ],
   "source": [
    "print('Max',max(nums))"
   ]
  },
  {
   "cell_type": "code",
   "execution_count": 76,
   "id": "f1d3a16d",
   "metadata": {},
   "outputs": [],
   "source": [
    "nums=[10,20,32,98,76,56,45,126,56,89,33,45,6,7,8,9,0,10,27,35,36,76,56,45,126,56,89,33,45,6,7,8,9,0,10,27,35,36]\n"
   ]
  },
  {
   "cell_type": "code",
   "execution_count": 77,
   "id": "3cb5986c",
   "metadata": {},
   "outputs": [
    {
     "data": {
      "text/plain": [
       "[10,\n",
       " 20,\n",
       " 32,\n",
       " 98,\n",
       " 76,\n",
       " 56,\n",
       " 126,\n",
       " 56,\n",
       " 6,\n",
       " 8,\n",
       " 0,\n",
       " 10,\n",
       " 36,\n",
       " 76,\n",
       " 56,\n",
       " 126,\n",
       " 56,\n",
       " 6,\n",
       " 8,\n",
       " 0,\n",
       " 10,\n",
       " 36]"
      ]
     },
     "execution_count": 77,
     "metadata": {},
     "output_type": "execute_result"
    }
   ],
   "source": [
    "[i for i in nums if i%2==0]"
   ]
  },
  {
   "cell_type": "code",
   "execution_count": 78,
   "id": "684915a9",
   "metadata": {},
   "outputs": [
    {
     "name": "stdout",
     "output_type": "stream",
     "text": [
      "Even [10, 20, 32, 98, 76, 56, 126, 56, 6, 8, 0, 10, 36, 76, 56, 126, 56, 6, 8, 0, 10, 36]\n",
      "Odd [45, 89, 33, 45, 7, 9, 27, 35, 45, 89, 33, 45, 7, 9, 27, 35]\n"
     ]
    }
   ],
   "source": [
    "print('Even',[i for i in nums if i%2==0])\n",
    "print('Odd',[i for i in nums if i%2!=0])"
   ]
  },
  {
   "cell_type": "code",
   "execution_count": 81,
   "id": "8bd79c91",
   "metadata": {},
   "outputs": [
    {
     "name": "stdout",
     "output_type": "stream",
     "text": [
      "Even [10, 20, 32, 98, 76, 56, 126, 56, 6, 8, 0, 10, 36, 76, 56, 126, 56, 6, 8, 0, 10, 36]\n",
      "odd [45, 89, 33, 45, 7, 9, 27, 35, 45, 89, 33, 45, 7, 9, 27, 35]\n",
      "Time Taken 0.0009996891021728516\n"
     ]
    }
   ],
   "source": [
    "import time\n",
    "nums=[10,20,32,98,76,56,45,126,56,89,33,45,6,7,8,9,0,10,27,35,36,76,56,45,126,56,89,33,45,6,7,8,9,0,10,27,35,36]\n",
    "start_time=time.time()\n",
    "\n",
    "\n",
    "even=[]\n",
    "odd=[]\n",
    "for i in nums:\n",
    "  if i%2==0:\n",
    "    even.append(i)\n",
    "  else:\n",
    "    odd.append(i)\n",
    "\n",
    "print('Even',even)\n",
    "print('odd',odd)\n",
    "\n",
    "\n",
    "\n",
    "end_time=time.time()\n",
    "print('Time Taken',end_time-start_time)\n"
   ]
  },
  {
   "cell_type": "code",
   "execution_count": 82,
   "id": "22cd7e1e",
   "metadata": {},
   "outputs": [
    {
     "name": "stdout",
     "output_type": "stream",
     "text": [
      "Even [10, 20, 32, 98, 76, 56, 126, 56, 6, 8, 0, 10, 36, 76, 56, 126, 56, 6, 8, 0, 10, 36]\n",
      "odd [45, 89, 33, 45, 7, 9, 27, 35, 45, 89, 33, 45, 7, 9, 27, 35]\n",
      "Time Taken 0.0020248889923095703\n"
     ]
    }
   ],
   "source": [
    "\n",
    "nums=[10,20,32,98,76,56,45,126,56,89,33,45,6,7,8,9,0,10,27,35,36,76,56,45,126,56,89,33,45,6,7,8,9,0,10,27,35,36]\n",
    "start_time=time.time()\n",
    "\n",
    "print('Even',even)\n",
    "print('odd',odd)\n",
    "\n",
    "\n",
    "\n",
    "end_time=time.time()\n",
    "print('Time Taken',end_time-start_time)"
   ]
  },
  {
   "cell_type": "code",
   "execution_count": 83,
   "id": "7445ab4e",
   "metadata": {},
   "outputs": [
    {
     "name": "stdout",
     "output_type": "stream",
     "text": [
      "['even', 'even', 'even', 'even', 'even', 'even', 'odd', 'even', 'even', 'odd', 'odd', 'odd', 'even', 'odd', 'even', 'odd', 'even', 'even', 'odd', 'odd', 'even', 'even', 'even', 'odd', 'even', 'even', 'odd', 'odd', 'odd', 'even', 'odd', 'even', 'odd', 'even', 'even', 'odd', 'odd', 'even']\n"
     ]
    }
   ],
   "source": [
    "odd_even=['even' if i%2==0 else 'odd' for i in nums]\n",
    "print(odd_even)"
   ]
  },
  {
   "cell_type": "code",
   "execution_count": 84,
   "id": "763ad44a",
   "metadata": {},
   "outputs": [
    {
     "name": "stdout",
     "output_type": "stream",
     "text": [
      "[10, 20, 32, 98, 76, 56, 'odd', 126, 56, 'odd', 'odd', 'odd', 6, 'odd', 8, 'odd', 0, 10, 'odd', 'odd', 36, 76, 56, 'odd', 126, 56, 'odd', 'odd', 'odd', 6, 'odd', 8, 'odd', 0, 10, 'odd', 'odd', 36]\n"
     ]
    }
   ],
   "source": [
    "odd_even=[i if i%2==0 else 'odd' for i in nums]\n",
    "print(odd_even)"
   ]
  },
  {
   "cell_type": "code",
   "execution_count": null,
   "id": "0a886783",
   "metadata": {},
   "outputs": [],
   "source": [
    "class Employee:\n",
    "    def __init__(self, emp_id, name, salary, department):\n",
    "        self.emp_id = emp_id\n",
    "        self.name = name\n",
    "        self.salary = salary\n",
    "        self.department = department\n",
    "\n",
    "    def display_info(self):\n",
    "        print(f\"ID: {self.emp_id}, Name: {self.name}, Salary: {self.salary}, Department: {self.department}\")class parent:\n",
    "  def parent_method(self):\n",
    "    print('This is a Parent Method')\n",
    "\n",
    "class child(parent):\n",
    "  def child_method(self):\n",
    "    print('This is a Child Method')\n"
   ]
  },
  {
   "cell_type": "code",
   "execution_count": 96,
   "id": "21086261",
   "metadata": {},
   "outputs": [
    {
     "name": "stdout",
     "output_type": "stream",
     "text": [
      "ID: 001, Name: riji, Salary: 90000, Department: it\n"
     ]
    }
   ],
   "source": [
    "employee1=Employee(\"001\",\"riji\",90000,'it')\n",
    "employee1.display_info()"
   ]
  },
  {
   "cell_type": "code",
   "execution_count": 98,
   "id": "244f4dbf",
   "metadata": {},
   "outputs": [
    {
     "name": "stdout",
     "output_type": "stream",
     "text": [
      "ID: 001, Name: rijijna, Salary: 90000, Department: it\n"
     ]
    }
   ],
   "source": [
    "employee1.name=\"rijijna\"\n",
    "employee1.display_info()"
   ]
  },
  {
   "cell_type": "code",
   "execution_count": 102,
   "id": "f6a2951b",
   "metadata": {},
   "outputs": [],
   "source": [
    "class parent:\n",
    "  def parent_method(self):\n",
    "    print('This is a Parent Method')\n",
    "\n",
    "class child(parent):\n",
    "  def child_method(self):\n",
    "    print('This is a Child Method')"
   ]
  },
  {
   "cell_type": "code",
   "execution_count": 104,
   "id": "5b4eb442",
   "metadata": {},
   "outputs": [
    {
     "name": "stdout",
     "output_type": "stream",
     "text": [
      "This is a Child Method\n"
     ]
    }
   ],
   "source": [
    "C1=child()\n",
    "C1.child_method()"
   ]
  },
  {
   "cell_type": "code",
   "execution_count": 105,
   "id": "1a180ceb",
   "metadata": {},
   "outputs": [
    {
     "name": "stdout",
     "output_type": "stream",
     "text": [
      "This is a Parent Method\n"
     ]
    }
   ],
   "source": [
    "C1.parent_method()"
   ]
  },
  {
   "cell_type": "code",
   "execution_count": null,
   "id": "5ef35653",
   "metadata": {},
   "outputs": [],
   "source": [
    "class parent:# Multiple Inheritance\n",
    "  def parent_method(self):\n",
    "    print('This is a Parent Method')\n",
    "\n",
    "class child(parent):\n",
    "  def child_method(self):\n",
    "    print('This is a Child Method')"
   ]
  },
  {
   "cell_type": "code",
   "execution_count": 107,
   "id": "86601e29",
   "metadata": {},
   "outputs": [
    {
     "name": "stdout",
     "output_type": "stream",
     "text": [
      "This is a Child Method\n"
     ]
    }
   ],
   "source": [
    "C1=child()\n",
    "C1.child_method()"
   ]
  },
  {
   "cell_type": "code",
   "execution_count": 108,
   "id": "8cd38c7c",
   "metadata": {},
   "outputs": [
    {
     "name": "stdout",
     "output_type": "stream",
     "text": [
      "This is a Parent Method\n"
     ]
    }
   ],
   "source": [
    "C1.parent_method()"
   ]
  },
  {
   "cell_type": "code",
   "execution_count": 110,
   "id": "0ed9bb6c",
   "metadata": {},
   "outputs": [],
   "source": [
    "# Multi Level Inheritance\n",
    "class grandparent:\n",
    "  def grandparent_method(self):\n",
    "    print('This is a Grandparent Method')\n",
    "\n",
    "class parent(grandparent):\n",
    "  def parent_method(self):\n",
    "    print('This is a Parent Method')\n",
    "\n",
    "class child(parent):\n",
    "  def child_method(self):\n",
    "    print('This is a Child Method')"
   ]
  },
  {
   "cell_type": "code",
   "execution_count": 111,
   "id": "cb22b630",
   "metadata": {},
   "outputs": [
    {
     "name": "stdout",
     "output_type": "stream",
     "text": [
      "This is a Grandparent Method\n"
     ]
    }
   ],
   "source": [
    "gp=grandparent()\n",
    "gp.grandparent_method()"
   ]
  },
  {
   "cell_type": "code",
   "execution_count": 112,
   "id": "87f090db",
   "metadata": {},
   "outputs": [
    {
     "name": "stdout",
     "output_type": "stream",
     "text": [
      "This is a Child Method\n"
     ]
    }
   ],
   "source": [
    "c1=child()\n",
    "c1.child_method()"
   ]
  },
  {
   "cell_type": "code",
   "execution_count": 113,
   "id": "44be35a5",
   "metadata": {},
   "outputs": [
    {
     "name": "stdout",
     "output_type": "stream",
     "text": [
      "This is a Parent Method\n",
      "This is a Grandparent Method\n"
     ]
    }
   ],
   "source": [
    "c1.parent_method()\n",
    "c1.grandparent_method()"
   ]
  },
  {
   "cell_type": "code",
   "execution_count": 120,
   "id": "8a4f2585",
   "metadata": {},
   "outputs": [],
   "source": [
    "Sqrt= lambda num: num**0.5"
   ]
  },
  {
   "cell_type": "code",
   "execution_count": 121,
   "id": "9804c31b",
   "metadata": {},
   "outputs": [
    {
     "data": {
      "text/plain": [
       "5.0"
      ]
     },
     "execution_count": 121,
     "metadata": {},
     "output_type": "execute_result"
    }
   ],
   "source": [
    "Sqrt(25)"
   ]
  },
  {
   "cell_type": "code",
   "execution_count": 124,
   "id": "49ac8ba4",
   "metadata": {},
   "outputs": [
    {
     "data": {
      "text/plain": [
       "[5.830951894845301,\n",
       " 5.0,\n",
       " 2.23606797749979,\n",
       " 2.449489742783178,\n",
       " 2.6457513110645907,\n",
       " 2.8284271247461903,\n",
       " 3.0]"
      ]
     },
     "execution_count": 124,
     "metadata": {},
     "output_type": "execute_result"
    }
   ],
   "source": [
    "L=[34,25,5,6,7,8,9]\n",
    "\n",
    "SQRT_LC=[i**0.5 for i in L]\n",
    "SQRT_LC"
   ]
  },
  {
   "cell_type": "code",
   "execution_count": 125,
   "id": "e92c0c06",
   "metadata": {},
   "outputs": [
    {
     "data": {
      "text/plain": [
       "[5.830951894845301,\n",
       " 5.0,\n",
       " 2.23606797749979,\n",
       " 2.449489742783178,\n",
       " 2.6457513110645907,\n",
       " 2.8284271247461903,\n",
       " 3.0]"
      ]
     },
     "execution_count": 125,
     "metadata": {},
     "output_type": "execute_result"
    }
   ],
   "source": [
    "SQRT_LM_MAP=list(map(Sqrt,L))\n",
    "SQRT_LM_MAP"
   ]
  },
  {
   "cell_type": "code",
   "execution_count": 130,
   "id": "eda6abbc",
   "metadata": {},
   "outputs": [],
   "source": [
    "L1=input()"
   ]
  },
  {
   "cell_type": "code",
   "execution_count": 131,
   "id": "48dbff6b",
   "metadata": {},
   "outputs": [
    {
     "data": {
      "text/plain": [
       "['10', '20', '30']"
      ]
     },
     "execution_count": 131,
     "metadata": {},
     "output_type": "execute_result"
    }
   ],
   "source": [
    "L1.split()"
   ]
  },
  {
   "cell_type": "code",
   "execution_count": 133,
   "id": "b439e1e2",
   "metadata": {},
   "outputs": [
    {
     "data": {
      "text/plain": [
       "[10, 20, 30]"
      ]
     },
     "execution_count": 133,
     "metadata": {},
     "output_type": "execute_result"
    }
   ],
   "source": [
    "Num_L=list(map(int,L1.split()))\n",
    "Num_L"
   ]
  },
  {
   "cell_type": "code",
   "execution_count": 139,
   "id": "6428ab6b",
   "metadata": {},
   "outputs": [
    {
     "data": {
      "text/plain": [
       "[2, 4, 6, 8]"
      ]
     },
     "execution_count": 139,
     "metadata": {},
     "output_type": "execute_result"
    }
   ],
   "source": [
    "# filter\n",
    "\n",
    "L=[1,2,3,4,5,6,7,8]\n",
    "\n",
    "even=list(filter(lambda num: num%2==0,L))\n",
    "even"
   ]
  },
  {
   "cell_type": "code",
   "execution_count": 143,
   "id": "aad2656e",
   "metadata": {},
   "outputs": [],
   "source": [
    "def is_even(num):\n",
    "  if num%2==0:\n",
    "    return True\n",
    "  else:\n",
    "    return False"
   ]
  },
  {
   "cell_type": "code",
   "execution_count": 145,
   "id": "8b6477f4",
   "metadata": {},
   "outputs": [
    {
     "data": {
      "text/plain": [
       "[2, 4, 6, 8]"
      ]
     },
     "execution_count": 145,
     "metadata": {},
     "output_type": "execute_result"
    }
   ],
   "source": [
    "L=[1,2,3,4,5,6,7,8]\n",
    "\n",
    "even=list(filter( is_even,L))\n",
    "even"
   ]
  },
  {
   "cell_type": "code",
   "execution_count": 150,
   "id": "0b45eca6",
   "metadata": {},
   "outputs": [
    {
     "name": "stdout",
     "output_type": "stream",
     "text": [
      "Fruits starting with 'o': ['orange']\n",
      "Fruits starting with 'a': ['apple']\n"
     ]
    }
   ],
   "source": [
    "FRUITS = ['apple', 'banana', 'mango', 'orange']\n",
    "o = []  \n",
    "a = []  \n",
    "\n",
    "for fruit in FRUITS:\n",
    "    if fruit.startswith('o'):\n",
    "        o.append(fruit)\n",
    "    elif fruit.startswith('a'):\n",
    "        a.append(fruit)\n",
    "\n",
    "print(\"Fruits starting with 'o':\", o)\n",
    "print(\"Fruits starting with 'a':\", a)"
   ]
  },
  {
   "cell_type": "code",
   "execution_count": 151,
   "id": "25f9b804",
   "metadata": {},
   "outputs": [
    {
     "name": "stdout",
     "output_type": "stream",
     "text": [
      "Fruits starting with 'a': ['apple']\n",
      "Fruits starting with 'o': ['orange']\n"
     ]
    }
   ],
   "source": [
    "FRUITS = ['apple', 'banana', 'mango', 'orange']\n",
    "\n",
    "# Using lambda and filter\n",
    "a = list(filter(lambda fruit: fruit.startswith('a'), FRUITS))\n",
    "o = list(filter(lambda fruit: fruit.startswith('o'), FRUITS))\n",
    "\n",
    "print(\"Fruits starting with 'a':\", a)\n",
    "print(\"Fruits starting with 'o':\", o)"
   ]
  },
  {
   "cell_type": "code",
   "execution_count": 157,
   "id": "c16a4008",
   "metadata": {},
   "outputs": [
    {
     "name": "stdout",
     "output_type": "stream",
     "text": [
      "Fruits with 'a': ['apple', 'banana', 'mango', 'orange']\n",
      "Fruits with 'o': ['mango', 'orange']\n"
     ]
    }
   ],
   "source": [
    "FRUITS = ['apple', 'banana', 'mango', 'orange']\n",
    "\n",
    "# Using lambda and filter\n",
    "a = list(filter(lambda fruit: 'a' in fruit, FRUITS))\n",
    "o = list(filter(lambda fruit: 'o' in  fruit,FRUITS))\n",
    "\n",
    "print(\"Fruits with 'a':\", a)\n",
    "print(\"Fruits with 'o':\", o)"
   ]
  },
  {
   "cell_type": "code",
   "execution_count": 161,
   "id": "b72307c7",
   "metadata": {},
   "outputs": [
    {
     "data": {
      "text/plain": [
       "[1180.0, 2950.0, 4718.82, 1770.0]"
      ]
     },
     "execution_count": 161,
     "metadata": {},
     "output_type": "execute_result"
    }
   ],
   "source": [
    "products=[1000,2500,3999,1500]\n",
    "add=list(map(lambda x: x*1.18 ,products))\n",
    "add"
   ]
  },
  {
   "cell_type": "markdown",
   "id": "15dc83d9",
   "metadata": {},
   "source": [
    "# iterate"
   ]
  },
  {
   "cell_type": "code",
   "execution_count": 2,
   "id": "998660af",
   "metadata": {},
   "outputs": [
    {
     "data": {
      "text/plain": [
       "<list_iterator at 0x1f032c99c70>"
      ]
     },
     "execution_count": 2,
     "metadata": {},
     "output_type": "execute_result"
    }
   ],
   "source": [
    "L1=['a','b','c',1,2,4,5]\n",
    "\n",
    "Iter_Var=iter(L1)\n",
    "Iter_Var"
   ]
  },
  {
   "cell_type": "code",
   "execution_count": 3,
   "id": "22304fd6",
   "metadata": {},
   "outputs": [
    {
     "data": {
      "text/plain": [
       "'a'"
      ]
     },
     "execution_count": 3,
     "metadata": {},
     "output_type": "execute_result"
    }
   ],
   "source": [
    "next(Iter_Var)"
   ]
  },
  {
   "cell_type": "code",
   "execution_count": 4,
   "id": "309afe8e",
   "metadata": {},
   "outputs": [
    {
     "data": {
      "text/plain": [
       "'b'"
      ]
     },
     "execution_count": 4,
     "metadata": {},
     "output_type": "execute_result"
    }
   ],
   "source": [
    "next(Iter_Var)"
   ]
  },
  {
   "cell_type": "code",
   "execution_count": 5,
   "id": "76d85321",
   "metadata": {},
   "outputs": [
    {
     "data": {
      "text/plain": [
       "1"
      ]
     },
     "execution_count": 5,
     "metadata": {},
     "output_type": "execute_result"
    }
   ],
   "source": [
    "L=[1,2,3,45,6]\n",
    "L[0]"
   ]
  },
  {
   "cell_type": "code",
   "execution_count": 6,
   "id": "1400fa81",
   "metadata": {},
   "outputs": [
    {
     "data": {
      "text/plain": [
       "2"
      ]
     },
     "execution_count": 6,
     "metadata": {},
     "output_type": "execute_result"
    }
   ],
   "source": [
    "L[1]"
   ]
  },
  {
   "cell_type": "code",
   "execution_count": 7,
   "id": "187693f0",
   "metadata": {},
   "outputs": [
    {
     "name": "stdout",
     "output_type": "stream",
     "text": [
      "1\n",
      "2\n",
      "3\n",
      "4\n",
      "5\n"
     ]
    }
   ],
   "source": [
    "L1=[1,2,3,4,5]\n",
    "for i in L1:\n",
    "  print(i)"
   ]
  },
  {
   "cell_type": "code",
   "execution_count": 8,
   "id": "352bce3a",
   "metadata": {},
   "outputs": [
    {
     "name": "stdout",
     "output_type": "stream",
     "text": [
      "1 A\n",
      "1 B\n",
      "1 C\n",
      "1 D\n",
      "2 A\n",
      "2 B\n",
      "2 C\n",
      "2 D\n",
      "3 A\n",
      "3 B\n",
      "3 C\n",
      "3 D\n",
      "4 A\n",
      "4 B\n",
      "4 C\n",
      "4 D\n",
      "5 A\n",
      "5 B\n",
      "5 C\n",
      "5 D\n",
      "6 A\n",
      "6 B\n",
      "6 C\n",
      "6 D\n",
      "7 A\n",
      "7 B\n",
      "7 C\n",
      "7 D\n",
      "8 A\n",
      "8 B\n",
      "8 C\n",
      "8 D\n",
      "9 A\n",
      "9 B\n",
      "9 C\n",
      "9 D\n",
      "10 A\n",
      "10 B\n",
      "10 C\n",
      "10 D\n"
     ]
    }
   ],
   "source": [
    "L1=[1,2,3,4,5,6,7,8,9,10]\n",
    "L2=[\"A\",\"B\",\"C\",\"D\"]\n",
    "\n",
    "for i in L1:\n",
    "  for j in L2:\n",
    "    print(i,j)"
   ]
  },
  {
   "cell_type": "code",
   "execution_count": 9,
   "id": "abac0571",
   "metadata": {},
   "outputs": [
    {
     "data": {
      "text/plain": [
       "[2, 10, 45, 67, 67, 75, 78, 89, 89]"
      ]
     },
     "execution_count": 9,
     "metadata": {},
     "output_type": "execute_result"
    }
   ],
   "source": [
    "L=[45,67,78,89,75,2,67,89,10]\n",
    "Sorted_List=sorted(L)\n",
    "Sorted_List"
   ]
  },
  {
   "cell_type": "code",
   "execution_count": null,
   "id": "85fbba43",
   "metadata": {},
   "outputs": [],
   "source": []
  }
 ],
 "metadata": {
  "kernelspec": {
   "display_name": "Python 3",
   "language": "python",
   "name": "python3"
  },
  "language_info": {
   "codemirror_mode": {
    "name": "ipython",
    "version": 3
   },
   "file_extension": ".py",
   "mimetype": "text/x-python",
   "name": "python",
   "nbconvert_exporter": "python",
   "pygments_lexer": "ipython3",
   "version": "3.8.10"
  }
 },
 "nbformat": 4,
 "nbformat_minor": 5
}
