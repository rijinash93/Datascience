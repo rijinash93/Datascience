{
 "cells": [
  {
   "cell_type": "code",
   "execution_count": 1,
   "id": "f5fa244c",
   "metadata": {},
   "outputs": [
    {
     "name": "stdout",
     "output_type": "stream",
     "text": [
      "hello\n"
     ]
    }
   ],
   "source": [
    "print(\"hello\")"
   ]
  },
  {
   "cell_type": "markdown",
   "id": "8f82439d",
   "metadata": {},
   "source": [
    "# Day1"
   ]
  },
  {
   "cell_type": "markdown",
   "id": "5e3adf94",
   "metadata": {},
   "source": [
    "variables"
   ]
  },
  {
   "cell_type": "code",
   "execution_count": 1,
   "id": "047c6732",
   "metadata": {},
   "outputs": [],
   "source": [
    "a=10"
   ]
  },
  {
   "cell_type": "code",
   "execution_count": 2,
   "id": "2b9c4d61",
   "metadata": {},
   "outputs": [
    {
     "name": "stdout",
     "output_type": "stream",
     "text": [
      "10\n"
     ]
    }
   ],
   "source": [
    "print(a)"
   ]
  },
  {
   "cell_type": "code",
   "execution_count": 3,
   "id": "54083dac",
   "metadata": {},
   "outputs": [
    {
     "name": "stdout",
     "output_type": "stream",
     "text": [
      "20\n"
     ]
    }
   ],
   "source": [
    "print(a+a)"
   ]
  },
  {
   "cell_type": "code",
   "execution_count": 4,
   "id": "4416eb06",
   "metadata": {},
   "outputs": [
    {
     "name": "stdout",
     "output_type": "stream",
     "text": [
      "<class 'int'>\n"
     ]
    }
   ],
   "source": [
    "print(type(a))"
   ]
  },
  {
   "cell_type": "markdown",
   "id": "34d6b348",
   "metadata": {},
   "source": [
    "list\n"
   ]
  },
  {
   "cell_type": "code",
   "execution_count": 30,
   "id": "f6f2061d",
   "metadata": {},
   "outputs": [],
   "source": [
    "L=[1,\"hello\",True,3,4,5,2,6]#it can store all data type\n",
    "\n"
   ]
  },
  {
   "cell_type": "code",
   "execution_count": 16,
   "id": "8d1e6f3e",
   "metadata": {},
   "outputs": [
    {
     "data": {
      "text/plain": [
       "1"
      ]
     },
     "execution_count": 16,
     "metadata": {},
     "output_type": "execute_result"
    }
   ],
   "source": [
    "L[0]"
   ]
  },
  {
   "cell_type": "code",
   "execution_count": 17,
   "id": "44cf036a",
   "metadata": {},
   "outputs": [
    {
     "data": {
      "text/plain": [
       "'hello'"
      ]
     },
     "execution_count": 17,
     "metadata": {},
     "output_type": "execute_result"
    }
   ],
   "source": [
    "L[1]"
   ]
  },
  {
   "cell_type": "code",
   "execution_count": 19,
   "id": "895fb930",
   "metadata": {},
   "outputs": [
    {
     "data": {
      "text/plain": [
       "'e'"
      ]
     },
     "execution_count": 19,
     "metadata": {},
     "output_type": "execute_result"
    }
   ],
   "source": [
    "L[1][1]"
   ]
  },
  {
   "cell_type": "code",
   "execution_count": 20,
   "id": "3f0db016",
   "metadata": {},
   "outputs": [
    {
     "data": {
      "text/plain": [
       "True"
      ]
     },
     "execution_count": 20,
     "metadata": {},
     "output_type": "execute_result"
    }
   ],
   "source": [
    "L[-1]"
   ]
  },
  {
   "cell_type": "code",
   "execution_count": 21,
   "id": "72d253dd",
   "metadata": {},
   "outputs": [
    {
     "data": {
      "text/plain": [
       "[True, 'hello', 1]"
      ]
     },
     "execution_count": 21,
     "metadata": {},
     "output_type": "execute_result"
    }
   ],
   "source": [
    "L[::-1]"
   ]
  },
  {
   "cell_type": "code",
   "execution_count": 22,
   "id": "4e250c5f",
   "metadata": {},
   "outputs": [
    {
     "data": {
      "text/plain": [
       "[1, 'hello', True]"
      ]
     },
     "execution_count": 22,
     "metadata": {},
     "output_type": "execute_result"
    }
   ],
   "source": [
    "L[::]"
   ]
  },
  {
   "cell_type": "code",
   "execution_count": 23,
   "id": "7f1698c3",
   "metadata": {},
   "outputs": [
    {
     "data": {
      "text/plain": [
       "[1, 'hello']"
      ]
     },
     "execution_count": 23,
     "metadata": {},
     "output_type": "execute_result"
    }
   ],
   "source": [
    "L[0:2]"
   ]
  },
  {
   "cell_type": "code",
   "execution_count": null,
   "id": "af229ab2",
   "metadata": {},
   "outputs": [
    {
     "data": {
      "text/plain": [
       "[1, True, 4, 2]"
      ]
     },
     "execution_count": 33,
     "metadata": {},
     "output_type": "execute_result"
    }
   ],
   "source": [
    "L[0:-1:2]"
   ]
  },
  {
   "cell_type": "code",
   "execution_count": 34,
   "id": "5d7dc4f2",
   "metadata": {},
   "outputs": [
    {
     "data": {
      "text/plain": [
       "[1, 3, 2]"
      ]
     },
     "execution_count": 34,
     "metadata": {},
     "output_type": "execute_result"
    }
   ],
   "source": [
    "L[0:-1:3]"
   ]
  },
  {
   "cell_type": "code",
   "execution_count": 35,
   "id": "9e250695",
   "metadata": {},
   "outputs": [
    {
     "data": {
      "text/plain": [
       "[True, 3, 4, 5, 2, 6]"
      ]
     },
     "execution_count": 35,
     "metadata": {},
     "output_type": "execute_result"
    }
   ],
   "source": [
    "L[2:]"
   ]
  },
  {
   "cell_type": "code",
   "execution_count": 36,
   "id": "f82f24d9",
   "metadata": {},
   "outputs": [
    {
     "data": {
      "text/plain": [
       "8"
      ]
     },
     "execution_count": 36,
     "metadata": {},
     "output_type": "execute_result"
    }
   ],
   "source": [
    "len(L)"
   ]
  },
  {
   "cell_type": "code",
   "execution_count": 1,
   "id": "825f37a9",
   "metadata": {},
   "outputs": [
    {
     "data": {
      "text/plain": [
       "['__add__',\n",
       " '__class__',\n",
       " '__contains__',\n",
       " '__delattr__',\n",
       " '__delitem__',\n",
       " '__dir__',\n",
       " '__doc__',\n",
       " '__eq__',\n",
       " '__format__',\n",
       " '__ge__',\n",
       " '__getattribute__',\n",
       " '__getitem__',\n",
       " '__gt__',\n",
       " '__hash__',\n",
       " '__iadd__',\n",
       " '__imul__',\n",
       " '__init__',\n",
       " '__init_subclass__',\n",
       " '__iter__',\n",
       " '__le__',\n",
       " '__len__',\n",
       " '__lt__',\n",
       " '__mul__',\n",
       " '__ne__',\n",
       " '__new__',\n",
       " '__reduce__',\n",
       " '__reduce_ex__',\n",
       " '__repr__',\n",
       " '__reversed__',\n",
       " '__rmul__',\n",
       " '__setattr__',\n",
       " '__setitem__',\n",
       " '__sizeof__',\n",
       " '__str__',\n",
       " '__subclasshook__',\n",
       " 'append',\n",
       " 'clear',\n",
       " 'copy',\n",
       " 'count',\n",
       " 'extend',\n",
       " 'index',\n",
       " 'insert',\n",
       " 'pop',\n",
       " 'remove',\n",
       " 'reverse',\n",
       " 'sort']"
      ]
     },
     "execution_count": 1,
     "metadata": {},
     "output_type": "execute_result"
    }
   ],
   "source": [
    "dir(list)"
   ]
  },
  {
   "cell_type": "code",
   "execution_count": 2,
   "id": "18c460b8",
   "metadata": {},
   "outputs": [],
   "source": [
    "List=[1,2,3,4,5,6,7]"
   ]
  },
  {
   "cell_type": "markdown",
   "id": "32cd16f4",
   "metadata": {},
   "source": [
    "# Insert"
   ]
  },
  {
   "cell_type": "code",
   "execution_count": null,
   "id": "3c12da31",
   "metadata": {},
   "outputs": [
    {
     "name": "stdout",
     "output_type": "stream",
     "text": [
      "['a', 'b', 'riji', 'c', 'd']\n"
     ]
    }
   ],
   "source": [
    "List = [\"a\", \"b\", \"c\", \"d\"]\n",
    "List.insert(-1, \"riji\")\n",
    "print(List)"
   ]
  },
  {
   "cell_type": "code",
   "execution_count": 15,
   "id": "c10a7266",
   "metadata": {},
   "outputs": [
    {
     "name": "stdout",
     "output_type": "stream",
     "text": [
      "['a', 'b', 'c', 'riji']\n"
     ]
    }
   ],
   "source": [
    "List = [\"a\", \"b\", \"c\"]\n",
    "List.insert(len(List), \"riji\")\n",
    "print(List)"
   ]
  },
  {
   "cell_type": "markdown",
   "id": "f280c5c1",
   "metadata": {},
   "source": [
    "# append"
   ]
  },
  {
   "cell_type": "code",
   "execution_count": 16,
   "id": "f51444e0",
   "metadata": {},
   "outputs": [
    {
     "name": "stdout",
     "output_type": "stream",
     "text": [
      "['a', 'b', 'c', 'riji']\n"
     ]
    }
   ],
   "source": [
    "List = [\"a\", \"b\", \"c\"]\n",
    "List.append(\"riji\")\n",
    "print(List)"
   ]
  },
  {
   "cell_type": "markdown",
   "id": "600f2994",
   "metadata": {},
   "source": [
    "# pop"
   ]
  },
  {
   "cell_type": "code",
   "execution_count": 17,
   "id": "65a17150",
   "metadata": {},
   "outputs": [
    {
     "name": "stdout",
     "output_type": "stream",
     "text": [
      "['a', 'b']\n"
     ]
    }
   ],
   "source": [
    "List = [\"a\", \"b\", \"c\"]\n",
    "List.pop()\n",
    "print(List)"
   ]
  },
  {
   "cell_type": "code",
   "execution_count": 18,
   "id": "aee287d6",
   "metadata": {},
   "outputs": [
    {
     "data": {
      "text/plain": [
       "'b'"
      ]
     },
     "execution_count": 18,
     "metadata": {},
     "output_type": "execute_result"
    }
   ],
   "source": [
    "List.pop(1)"
   ]
  },
  {
   "cell_type": "markdown",
   "id": "f6a426ac",
   "metadata": {},
   "source": [
    "# Remove"
   ]
  },
  {
   "cell_type": "markdown",
   "id": "61f0de9a",
   "metadata": {},
   "source": []
  },
  {
   "cell_type": "code",
   "execution_count": null,
   "id": "b09ee61a",
   "metadata": {},
   "outputs": [
    {
     "name": "stdout",
     "output_type": "stream",
     "text": [
      "['b', 'c']\n"
     ]
    }
   ],
   "source": [
    "List = [\"a\", \"b\", \"c\"]\n",
    "List.remove(\"a\")\n",
    "print(List)"
   ]
  },
  {
   "cell_type": "markdown",
   "id": "bbc6d9b9",
   "metadata": {},
   "source": [
    "# count"
   ]
  },
  {
   "cell_type": "code",
   "execution_count": 24,
   "id": "8e6019a4",
   "metadata": {},
   "outputs": [
    {
     "data": {
      "text/plain": [
       "2"
      ]
     },
     "execution_count": 24,
     "metadata": {},
     "output_type": "execute_result"
    }
   ],
   "source": [
    "List = [\"a\", \"b\", \"c\",\"a\"]\n",
    "List.count(\"a\")\n"
   ]
  },
  {
   "cell_type": "markdown",
   "id": "adbd462d",
   "metadata": {},
   "source": [
    "# index"
   ]
  },
  {
   "cell_type": "code",
   "execution_count": 25,
   "id": "9b96410e",
   "metadata": {},
   "outputs": [
    {
     "data": {
      "text/plain": [
       "0"
      ]
     },
     "execution_count": 25,
     "metadata": {},
     "output_type": "execute_result"
    }
   ],
   "source": [
    "List = [\"a\", \"b\", \"c\",\"a\"]\n",
    "List.index(\"a\")"
   ]
  },
  {
   "cell_type": "markdown",
   "id": "6bbd4aff",
   "metadata": {},
   "source": [
    "# Reverse"
   ]
  },
  {
   "cell_type": "code",
   "execution_count": 27,
   "id": "32425d15",
   "metadata": {},
   "outputs": [
    {
     "data": {
      "text/plain": [
       "['a', 'c', 'b', 'a']"
      ]
     },
     "execution_count": 27,
     "metadata": {},
     "output_type": "execute_result"
    }
   ],
   "source": [
    "List = [\"a\", \"b\", \"c\",\"a\"]\n",
    "List.reverse()\n",
    "List"
   ]
  },
  {
   "cell_type": "markdown",
   "id": "ce0b4d8f",
   "metadata": {},
   "source": [
    "# sort"
   ]
  },
  {
   "cell_type": "code",
   "execution_count": 28,
   "id": "bf82e283",
   "metadata": {},
   "outputs": [
    {
     "data": {
      "text/plain": [
       "['a', 'a', 'b', 'c']"
      ]
     },
     "execution_count": 28,
     "metadata": {},
     "output_type": "execute_result"
    }
   ],
   "source": [
    "List = [\"a\", \"b\", \"c\",\"a\"]\n",
    "List.sort()\n",
    "List"
   ]
  },
  {
   "cell_type": "code",
   "execution_count": 29,
   "id": "9d90c3d4",
   "metadata": {},
   "outputs": [
    {
     "data": {
      "text/plain": [
       "['e', 'c', 'b', 'a']"
      ]
     },
     "execution_count": 29,
     "metadata": {},
     "output_type": "execute_result"
    }
   ],
   "source": [
    "List = [\"a\", \"b\", \"c\",\"e\"]\n",
    "List.sort(reverse=True)\n",
    "List"
   ]
  },
  {
   "cell_type": "markdown",
   "id": "39d6ec41",
   "metadata": {},
   "source": [
    "# copy"
   ]
  },
  {
   "cell_type": "code",
   "execution_count": 30,
   "id": "62944436",
   "metadata": {},
   "outputs": [
    {
     "data": {
      "text/plain": [
       "['a', 'b', 'c', 'e']"
      ]
     },
     "execution_count": 30,
     "metadata": {},
     "output_type": "execute_result"
    }
   ],
   "source": [
    "List = [\"a\", \"b\", \"c\",\"e\"]\n",
    "List_1=List.copy()\n",
    "List_1"
   ]
  },
  {
   "cell_type": "markdown",
   "id": "20db8887",
   "metadata": {},
   "source": [
    "# Extend"
   ]
  },
  {
   "cell_type": "code",
   "execution_count": 32,
   "id": "f00be6b9",
   "metadata": {},
   "outputs": [
    {
     "data": {
      "text/plain": [
       "['a', 'b', 'c', 'e', 1, 2, 3, 4, 5]"
      ]
     },
     "execution_count": 32,
     "metadata": {},
     "output_type": "execute_result"
    }
   ],
   "source": [
    "List = [\"a\", \"b\", \"c\",\"e\"]\n",
    "List_1 = [1,2,3,4,5]\n",
    "List.extend(List_1)\n",
    "List"
   ]
  },
  {
   "cell_type": "markdown",
   "id": "8ec8d4e4",
   "metadata": {},
   "source": [
    "# Append"
   ]
  },
  {
   "cell_type": "code",
   "execution_count": 33,
   "id": "dcb8f0c9",
   "metadata": {},
   "outputs": [
    {
     "data": {
      "text/plain": [
       "['a', 'b', 'c', 'e', [1, 2, 3, 4, 5]]"
      ]
     },
     "execution_count": 33,
     "metadata": {},
     "output_type": "execute_result"
    }
   ],
   "source": [
    "List = [\"a\", \"b\", \"c\",\"e\"]\n",
    "List_1 = [1,2,3,4,5]\n",
    "List.append(List_1)\n",
    "List"
   ]
  },
  {
   "cell_type": "markdown",
   "id": "a165a9ba",
   "metadata": {},
   "source": [
    "# Tupple"
   ]
  },
  {
   "cell_type": "code",
   "execution_count": 34,
   "id": "d040ea0a",
   "metadata": {},
   "outputs": [
    {
     "data": {
      "text/plain": [
       "['__add__',\n",
       " '__class__',\n",
       " '__contains__',\n",
       " '__delattr__',\n",
       " '__dir__',\n",
       " '__doc__',\n",
       " '__eq__',\n",
       " '__format__',\n",
       " '__ge__',\n",
       " '__getattribute__',\n",
       " '__getitem__',\n",
       " '__getnewargs__',\n",
       " '__gt__',\n",
       " '__hash__',\n",
       " '__init__',\n",
       " '__init_subclass__',\n",
       " '__iter__',\n",
       " '__le__',\n",
       " '__len__',\n",
       " '__lt__',\n",
       " '__mul__',\n",
       " '__ne__',\n",
       " '__new__',\n",
       " '__reduce__',\n",
       " '__reduce_ex__',\n",
       " '__repr__',\n",
       " '__rmul__',\n",
       " '__setattr__',\n",
       " '__sizeof__',\n",
       " '__str__',\n",
       " '__subclasshook__',\n",
       " 'count',\n",
       " 'index']"
      ]
     },
     "execution_count": 34,
     "metadata": {},
     "output_type": "execute_result"
    }
   ],
   "source": [
    "dir(tuple)"
   ]
  },
  {
   "cell_type": "markdown",
   "id": "be04d1fb",
   "metadata": {},
   "source": [
    "# count"
   ]
  },
  {
   "cell_type": "code",
   "execution_count": 35,
   "id": "714b0074",
   "metadata": {},
   "outputs": [
    {
     "data": {
      "text/plain": [
       "1"
      ]
     },
     "execution_count": 35,
     "metadata": {},
     "output_type": "execute_result"
    }
   ],
   "source": [
    "Tuple=(1,\"a\",2,4,5.5)\n",
    "Tuple.count(1)"
   ]
  },
  {
   "cell_type": "markdown",
   "id": "9a45ff97",
   "metadata": {},
   "source": [
    "# index"
   ]
  },
  {
   "cell_type": "code",
   "execution_count": 36,
   "id": "1b66cd93",
   "metadata": {},
   "outputs": [
    {
     "data": {
      "text/plain": [
       "0"
      ]
     },
     "execution_count": 36,
     "metadata": {},
     "output_type": "execute_result"
    }
   ],
   "source": [
    "Tuple=(1,\"a\",2,4,5.5)\n",
    "Tuple.index(1)"
   ]
  },
  {
   "cell_type": "markdown",
   "id": "a15ab660",
   "metadata": {},
   "source": [
    "# set"
   ]
  },
  {
   "cell_type": "code",
   "execution_count": 37,
   "id": "2e190211",
   "metadata": {},
   "outputs": [],
   "source": [
    "set\t={1, 2, 3,\"d\"}"
   ]
  },
  {
   "cell_type": "markdown",
   "id": "e39f198f",
   "metadata": {},
   "source": [
    "# Add"
   ]
  },
  {
   "cell_type": "code",
   "execution_count": 39,
   "id": "b9b9d9b7",
   "metadata": {},
   "outputs": [
    {
     "data": {
      "text/plain": [
       "{1, 2, 3, 'd', 'riji'}"
      ]
     },
     "execution_count": 39,
     "metadata": {},
     "output_type": "execute_result"
    }
   ],
   "source": [
    "set.add(\"riji\")\n",
    "set"
   ]
  },
  {
   "cell_type": "markdown",
   "id": "eb33a574",
   "metadata": {},
   "source": [
    "# Difference"
   ]
  },
  {
   "cell_type": "code",
   "execution_count": 42,
   "id": "102f7274",
   "metadata": {},
   "outputs": [
    {
     "name": "stdout",
     "output_type": "stream",
     "text": [
      "Difference: {'d'}\n"
     ]
    }
   ],
   "source": [
    "set_2 = {1, 2, 3, \"d\"}\n",
    "set_1 = {1, 2, 3}\n",
    "\n",
    "diff = set_2.difference(set_1) \n",
    "print(\"Difference:\", diff)"
   ]
  },
  {
   "cell_type": "markdown",
   "id": "19204df9",
   "metadata": {},
   "source": [
    "#  Difference_update"
   ]
  },
  {
   "cell_type": "code",
   "execution_count": 49,
   "id": "e8468305",
   "metadata": {},
   "outputs": [
    {
     "name": "stdout",
     "output_type": "stream",
     "text": [
      "Updated set_1: {4, 5, 6}\n"
     ]
    },
    {
     "data": {
      "text/plain": [
       "{4, 5, 6}"
      ]
     },
     "execution_count": 49,
     "metadata": {},
     "output_type": "execute_result"
    }
   ],
   "source": [
    "set_2 = {1, 2, 3, \"d\"}\n",
    "set_1 = {1, 2, 3,4,5,6}\n",
    "\n",
    "set_1.difference_update(set_2)  # modifies set_1 directly\n",
    "print(\"Updated set_1:\", set_1)\n",
    "set_1"
   ]
  },
  {
   "cell_type": "markdown",
   "id": "bf25983d",
   "metadata": {},
   "source": [
    "# disjoint"
   ]
  },
  {
   "cell_type": "code",
   "execution_count": 52,
   "id": "0b89cd05",
   "metadata": {},
   "outputs": [
    {
     "data": {
      "text/plain": [
       "False"
      ]
     },
     "execution_count": 52,
     "metadata": {},
     "output_type": "execute_result"
    }
   ],
   "source": [
    "set_2 = {1, 2, 3, \"d\"}\n",
    "set_1 = {1, 2, 3,4,5,6}\n",
    "\n",
    "set_1.isdisjoint(set_2)  # modifies set_1 directly\n",
    "\n"
   ]
  },
  {
   "cell_type": "code",
   "execution_count": 57,
   "id": "4a173f25",
   "metadata": {},
   "outputs": [
    {
     "data": {
      "text/plain": [
       "False"
      ]
     },
     "execution_count": 57,
     "metadata": {},
     "output_type": "execute_result"
    }
   ],
   "source": [
    "set_2 = { \"d\"}\n",
    "set_1 = {1, 2, 3,4,5,6,\"d\"}\n",
    "\n",
    "set_2.isdisjoint(set_1)"
   ]
  },
  {
   "cell_type": "markdown",
   "id": "470d909f",
   "metadata": {},
   "source": [
    "# superset &subset"
   ]
  },
  {
   "cell_type": "code",
   "execution_count": 59,
   "id": "ba8fc8bd",
   "metadata": {},
   "outputs": [
    {
     "data": {
      "text/plain": [
       "True"
      ]
     },
     "execution_count": 59,
     "metadata": {},
     "output_type": "execute_result"
    }
   ],
   "source": [
    "set_1.issuperset(set_2)"
   ]
  },
  {
   "cell_type": "code",
   "execution_count": 60,
   "id": "84e780e9",
   "metadata": {},
   "outputs": [
    {
     "data": {
      "text/plain": [
       "True"
      ]
     },
     "execution_count": 60,
     "metadata": {},
     "output_type": "execute_result"
    }
   ],
   "source": [
    "set_2.issubset(set_1)"
   ]
  },
  {
   "cell_type": "markdown",
   "id": "f1807d73",
   "metadata": {},
   "source": [
    "# remove"
   ]
  },
  {
   "cell_type": "code",
   "execution_count": 64,
   "id": "d197e2ca",
   "metadata": {},
   "outputs": [
    {
     "data": {
      "text/plain": [
       "{1, 2, 3, 4, 5, 6}"
      ]
     },
     "execution_count": 64,
     "metadata": {},
     "output_type": "execute_result"
    }
   ],
   "source": [
    "set_1 = {1, 2, 3,4,5,6,\"d\"}\n",
    "set_1.remove(\"d\")\n",
    "set_1"
   ]
  },
  {
   "cell_type": "markdown",
   "id": "5c1fb667",
   "metadata": {},
   "source": [
    "# intersection"
   ]
  },
  {
   "cell_type": "code",
   "execution_count": 69,
   "id": "2dcd8e1a",
   "metadata": {},
   "outputs": [
    {
     "data": {
      "text/plain": [
       "{1, 2, 3, 'd'}"
      ]
     },
     "execution_count": 69,
     "metadata": {},
     "output_type": "execute_result"
    }
   ],
   "source": [
    "set_1 = {1, 2, 3,4,5,6,\"d\"}\n",
    "set_2 = {1, 2, 3,\"d\"}\n",
    "set_1.intersection(set_2)\n"
   ]
  },
  {
   "cell_type": "code",
   "execution_count": 67,
   "id": "6c894185",
   "metadata": {},
   "outputs": [
    {
     "data": {
      "text/plain": [
       "{1, 2, 3, 'd'}"
      ]
     },
     "execution_count": 67,
     "metadata": {},
     "output_type": "execute_result"
    }
   ],
   "source": [
    "set_1 = {1, 2, 3,4,5,6,\"d\"}\n",
    "set_2 = {1, 2, 3,\"d\"}\n",
    "set_1.intersection_update(set_2)\n",
    "set_1"
   ]
  },
  {
   "cell_type": "markdown",
   "id": "851dc3da",
   "metadata": {},
   "source": [
    "# symmetric difference"
   ]
  },
  {
   "cell_type": "code",
   "execution_count": 71,
   "id": "98e0f7cd",
   "metadata": {},
   "outputs": [
    {
     "data": {
      "text/plain": [
       "{4, 5, 6, 7, 8}"
      ]
     },
     "execution_count": 71,
     "metadata": {},
     "output_type": "execute_result"
    }
   ],
   "source": [
    "set_1 = {1, 2, 3,4,5,6,\"d\"}\n",
    "set_2 = {1, 2, 3,\"d\",7,8}\n",
    "set_1.symmetric_difference(set_2)\n"
   ]
  },
  {
   "cell_type": "markdown",
   "id": "c0d60ff1",
   "metadata": {},
   "source": [
    "# union"
   ]
  },
  {
   "cell_type": "code",
   "execution_count": 72,
   "id": "545278eb",
   "metadata": {},
   "outputs": [
    {
     "data": {
      "text/plain": [
       "{1, 2, 3, 4, 5, 6, 7, 8, 'd'}"
      ]
     },
     "execution_count": 72,
     "metadata": {},
     "output_type": "execute_result"
    }
   ],
   "source": [
    "set_1 = {1, 2, 3,4,5,6,\"d\"}\n",
    "set_2 = {1, 2, 3,\"d\",7,8}\n",
    "set_1.union(set_2)\n"
   ]
  },
  {
   "cell_type": "markdown",
   "id": "c33c4e74",
   "metadata": {},
   "source": [
    "# dictonary"
   ]
  },
  {
   "cell_type": "markdown",
   "id": "5a534f27",
   "metadata": {},
   "source": []
  },
  {
   "cell_type": "code",
   "execution_count": 73,
   "id": "81b39be7",
   "metadata": {},
   "outputs": [
    {
     "data": {
      "text/plain": [
       "{'Name': 'Ram', 'age': 23}"
      ]
     },
     "execution_count": 73,
     "metadata": {},
     "output_type": "execute_result"
    }
   ],
   "source": [
    "Emp={\"Name\":\"Ram\",\n",
    "     \"age\":23,\n",
    "     }\n",
    "Emp"
   ]
  },
  {
   "cell_type": "code",
   "execution_count": 76,
   "id": "2ef233d6",
   "metadata": {},
   "outputs": [
    {
     "data": {
      "text/plain": [
       "{'Name': 'riji', 'age': 23}"
      ]
     },
     "execution_count": 76,
     "metadata": {},
     "output_type": "execute_result"
    }
   ],
   "source": [
    "Emp[\"Name\"]=\"riji\"\n",
    "Emp"
   ]
  },
  {
   "cell_type": "code",
   "execution_count": 77,
   "id": "6d4677e0",
   "metadata": {},
   "outputs": [],
   "source": [
    "Guvi_Emp={\n",
    "     'EmpID': [44,55,67,21,7,8,19,27],\n",
    "    'Name':['Rajesh','Kumar','Kamal','Saran','Karthick','Iswarya','Divya','David'],\n",
    "    'Designation':['Developer','Tester','TeamLead','Manager','Jr.Developer','Accontant','HR','Admin'],\n",
    "    'Salary': [25000,30000,45000,60000,20000,22000,15000,28000],\n",
    "}"
   ]
  },
  {
   "cell_type": "code",
   "execution_count": 81,
   "id": "25a0deb5",
   "metadata": {},
   "outputs": [
    {
     "data": {
      "text/plain": [
       "4"
      ]
     },
     "execution_count": 81,
     "metadata": {},
     "output_type": "execute_result"
    }
   ],
   "source": [
    "Guvi_Emp[\"EmpID\"].index(7)"
   ]
  },
  {
   "cell_type": "code",
   "execution_count": 85,
   "id": "b80226c9",
   "metadata": {},
   "outputs": [
    {
     "name": "stdout",
     "output_type": "stream",
     "text": [
      "Employee_ID----------->: 7\n"
     ]
    }
   ],
   "source": [
    "print(f\"Employee_ID----------->: {Guvi_Emp['EmpID'][4]}\")"
   ]
  },
  {
   "cell_type": "code",
   "execution_count": 87,
   "id": "0b745702",
   "metadata": {},
   "outputs": [
    {
     "name": "stdout",
     "output_type": "stream",
     "text": [
      "name:Karthick\n"
     ]
    }
   ],
   "source": [
    "print(f\"name:{Guvi_Emp['Name'][4]}\")"
   ]
  },
  {
   "cell_type": "markdown",
   "id": "10e2328e",
   "metadata": {},
   "source": [
    "# fromkeys"
   ]
  },
  {
   "cell_type": "code",
   "execution_count": 88,
   "id": "6c35ba74",
   "metadata": {},
   "outputs": [
    {
     "data": {
      "text/plain": [
       "{'Name': 60, 'age': 60, 'sex': 60}"
      ]
     },
     "execution_count": 88,
     "metadata": {},
     "output_type": "execute_result"
    }
   ],
   "source": [
    "Guvi_Emp={\"Emp_Id\":[1,2,13,4]}\n",
    "keys=[\"Name\",\"age\",\"sex\"]\n",
    "value=60\n",
    "Emp=dict.fromkeys(keys,value)\n",
    "Emp"
   ]
  },
  {
   "cell_type": "code",
   "execution_count": 89,
   "id": "7272001d",
   "metadata": {},
   "outputs": [
    {
     "data": {
      "text/plain": [
       "{'Name': 60, 'age': 60, 'sex': 60}"
      ]
     },
     "execution_count": 89,
     "metadata": {},
     "output_type": "execute_result"
    }
   ],
   "source": [
    "\n",
    "keys=[\"Name\",\"age\",\"sex\"]\n",
    "value=60\n",
    "Emp=dict.fromkeys(keys,value)\n",
    "Emp"
   ]
  },
  {
   "cell_type": "markdown",
   "id": "1ed268be",
   "metadata": {},
   "source": [
    "\n",
    "# Items"
   ]
  },
  {
   "cell_type": "code",
   "execution_count": 91,
   "id": "66cbf3e8",
   "metadata": {},
   "outputs": [
    {
     "data": {
      "text/plain": [
       "dict_items([('Name', 'rojo'), ('Age', 30), ('Income', 30000)])"
      ]
     },
     "execution_count": 91,
     "metadata": {},
     "output_type": "execute_result"
    }
   ],
   "source": [
    "Emp={'Name':'Raja',\n",
    "     'Age':30,\n",
    "     'Income':30000,\n",
    "     \"Name\":\"rojo\"} # It Allow Duplicate in Value But Not in Keys, Mutable, Order\n",
    "Emp.items()"
   ]
  },
  {
   "cell_type": "markdown",
   "id": "6ebf09f1",
   "metadata": {},
   "source": [
    "# keys"
   ]
  },
  {
   "cell_type": "code",
   "execution_count": 92,
   "id": "14c335a8",
   "metadata": {},
   "outputs": [
    {
     "data": {
      "text/plain": [
       "dict_keys(['Name', 'Age', 'Income'])"
      ]
     },
     "execution_count": 92,
     "metadata": {},
     "output_type": "execute_result"
    }
   ],
   "source": [
    "Emp={'Name':'Raja',\n",
    "     'Age':30,\n",
    "     'Income':30000} # It Allow Duplicate in Value But Not in Keys, Mutable, Order\n",
    "Emp.keys()"
   ]
  },
  {
   "cell_type": "markdown",
   "id": "2cc4151e",
   "metadata": {},
   "source": []
  },
  {
   "cell_type": "markdown",
   "id": "644eb875",
   "metadata": {},
   "source": [
    "# values"
   ]
  },
  {
   "cell_type": "code",
   "execution_count": 93,
   "id": "31e396b4",
   "metadata": {},
   "outputs": [
    {
     "data": {
      "text/plain": [
       "dict_values(['Raja', 30, 30000])"
      ]
     },
     "execution_count": 93,
     "metadata": {},
     "output_type": "execute_result"
    }
   ],
   "source": [
    "Emp={'Name':'Raja',\n",
    "     'Age':30,\n",
    "     'Income':30000} # It Allow Duplicate in Value But Not in Keys, Mutable, Order\n",
    "Emp.values()"
   ]
  },
  {
   "cell_type": "markdown",
   "id": "d8b2f361",
   "metadata": {},
   "source": [
    "\n",
    "# update"
   ]
  },
  {
   "cell_type": "code",
   "execution_count": 94,
   "id": "d88b574b",
   "metadata": {},
   "outputs": [
    {
     "data": {
      "text/plain": [
       "{'Name': 'Raja', 'Income': 30000, 'Age': 30}"
      ]
     },
     "execution_count": 94,
     "metadata": {},
     "output_type": "execute_result"
    }
   ],
   "source": [
    "Emp={'Name':'Raja',\n",
    "     'Income':30000}\n",
    "Emp.update({'Age':30})\n",
    "Emp"
   ]
  },
  {
   "cell_type": "markdown",
   "id": "44818b0f",
   "metadata": {},
   "source": [
    "# set default"
   ]
  },
  {
   "cell_type": "code",
   "execution_count": 95,
   "id": "c1258744",
   "metadata": {},
   "outputs": [
    {
     "name": "stdout",
     "output_type": "stream",
     "text": [
      "{'name': 'Alice', 'dept': 'IT', 'age': 30}\n"
     ]
    }
   ],
   "source": [
    "emp = {\n",
    "    \"name\": \"Alice\",\n",
    "    \"dept\": \"IT\"\n",
    "}\n",
    "\n",
    "emp.setdefault(\"dept\", \"HR\")  # key exists → does nothing\n",
    "emp.setdefault(\"age\", 30)     # key missing → adds it\n",
    "\n",
    "print(emp)"
   ]
  },
  {
   "cell_type": "markdown",
   "id": "41d61d37",
   "metadata": {},
   "source": [
    "# pop"
   ]
  },
  {
   "cell_type": "code",
   "execution_count": 98,
   "id": "720d99ed",
   "metadata": {},
   "outputs": [
    {
     "data": {
      "text/plain": [
       "{'dept': 'IT'}"
      ]
     },
     "execution_count": 98,
     "metadata": {},
     "output_type": "execute_result"
    }
   ],
   "source": [
    "emp = {\n",
    "    \"name\": \"Alice\",\n",
    "    \"dept\": \"IT\"\n",
    "}\n",
    "\n",
    "emp.pop(\"name\")\n",
    "emp"
   ]
  },
  {
   "cell_type": "markdown",
   "id": "c866b274",
   "metadata": {},
   "source": []
  }
 ],
 "metadata": {
  "kernelspec": {
   "display_name": ".venv",
   "language": "python",
   "name": "python3"
  },
  "language_info": {
   "codemirror_mode": {
    "name": "ipython",
    "version": 3
   },
   "file_extension": ".py",
   "mimetype": "text/x-python",
   "name": "python",
   "nbconvert_exporter": "python",
   "pygments_lexer": "ipython3",
   "version": "3.8.10"
  }
 },
 "nbformat": 4,
 "nbformat_minor": 5
}
